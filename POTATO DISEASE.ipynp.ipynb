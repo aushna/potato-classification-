{
 "cells": [
  {
   "cell_type": "markdown",
   "metadata": {},
   "source": [
    "potato dis"
   ]
  },
  {
   "cell_type": "code",
   "execution_count": 60,
   "metadata": {},
   "outputs": [],
   "source": [
    "import tensorflow as tf\n",
    "from tensorflow.keras import models, layers\n",
    "import matplotlib\n",
    "import matplotlib.pyplot as plt\n",
    "matplotlib.use('TkAgg')\n",
    "import numpy as np\n",
    "from sklearn.model_selection import train_test_split\n",
    "from sklearn.datasets import load_iris\n"
   ]
  },
  {
   "cell_type": "code",
   "execution_count": 3,
   "metadata": {},
   "outputs": [
    {
     "name": "stdout",
     "output_type": "stream",
     "text": [
      "Found 2158 files belonging to 4 classes.\n"
     ]
    }
   ],
   "source": [
    "import tensorflow as tf\n",
    "IMAGE_SIZE=256\n",
    "BATCH_SIZE=32\n",
    "CHANNELS=3\n",
    "EPOCHS=50\n",
    "\n",
    "dataset=tf.keras.preprocessing.image_dataset_from_directory(\n",
    "    \"PlantVillage\",\n",
    "    shuffle=True,\n",
    "    image_size=(IMAGE_SIZE,IMAGE_SIZE),\n",
    "    batch_size=BATCH_SIZE, \n",
    "\n",
    " )"
   ]
  },
  {
   "cell_type": "code",
   "execution_count": 4,
   "metadata": {},
   "outputs": [
    {
     "name": "stdout",
     "output_type": "stream",
     "text": [
      "['Potato___Early_blight', 'Potato___Late_blight', 'Potato___healthy', 'my_env']\n",
      "68\n"
     ]
    }
   ],
   "source": [
    "class_names= dataset.class_names\n",
    "print(class_names)\n",
    "\n",
    "len(dataset)\n",
    "print(len(dataset))\n",
    " "
   ]
  },
  {
   "cell_type": "code",
   "execution_count": 5,
   "metadata": {},
   "outputs": [],
   "source": [
    "for image_batch, label_batch in dataset.take(1):  \n",
    "    plt.figure(figsize=(12,9))\n",
    "     \n",
    "for i in range(12): \n",
    "    ax=plt.subplot(3,4,i+1) \n",
    "    plt.imshow(image_batch[i].numpy().astype(\"uint8\"))\n",
    "    plt.title(class_names[label_batch[i]])\n",
    "    \n",
    "    plt.axis(\"off\")\n",
    "    plt.show()"
   ]
  },
  {
   "cell_type": "code",
   "execution_count": 6,
   "metadata": {},
   "outputs": [
    {
     "name": "stdout",
     "output_type": "stream",
     "text": [
      "<_TakeDataset element_spec=(TensorSpec(shape=(None, 256, 256, 3), dtype=tf.float32, name=None), TensorSpec(shape=(None,), dtype=tf.int32, name=None))>\n"
     ]
    },
    {
     "data": {
      "text/plain": [
       "8"
      ]
     },
     "execution_count": 6,
     "metadata": {},
     "output_type": "execute_result"
    }
   ],
   "source": [
    "train_size =0.8\n",
    "len(dataset)*train_size\n",
    "\n",
    "dataset.take(54)\n",
    "\n",
    "train_ds=dataset.take(54)\n",
    "print(train_ds)\n",
    "\n",
    "\n",
    "test_ds=dataset.skip(54)\n",
    "len(test_ds)\n",
    "\n",
    "val_ds=dataset.skip(54)\n",
    "len(test_ds)\n",
    "\n",
    "test_ds=test_ds.skip(6)\n",
    "len(test_ds)"
   ]
  },
  {
   "cell_type": "code",
   "execution_count": 7,
   "metadata": {},
   "outputs": [],
   "source": [
    "def get_dataset_partitions_tf(ds,train_split=0.8,val_split=0.1,shuffle=True,shuffle_size=100000):\n",
    "    ds_size=len(ds)\n",
    "\n",
    "    if shuffle:\n",
    "       ds= ds.shuffle(shuffle_size,seed=12)\n",
    "\n",
    "    train_size=int(train_split* ds_size) \n",
    "    val_size=int(val_split*ds_size)\n",
    "    train_ds=ds.take(train_size)\n",
    "\n",
    "    val_ds=ds.skip(train_size).take(val_size)\n",
    "    test_ds=ds.skip(train_size).skip(val_size)\n",
    "\n",
    "    return train_ds,val_ds,test_ds\n"
   ]
  },
  {
   "cell_type": "code",
   "execution_count": 8,
   "metadata": {},
   "outputs": [
    {
     "name": "stdout",
     "output_type": "stream",
     "text": [
      "54\n"
     ]
    }
   ],
   "source": [
    "train_ds,val_ds,test_ds=get_dataset_partitions_tf(dataset)\n",
    "\n",
    "len(train_ds)\n",
    "print(len(train_ds))"
   ]
  },
  {
   "cell_type": "code",
   "execution_count": 9,
   "metadata": {},
   "outputs": [],
   "source": [
    "train_ds=train_ds.cache().shuffle(1000).prefetch(buffer_size=tf.data.AUTOTUNE)\n",
    "test_ds=test_ds.cache().shuffle(1000).prefetch(buffer_size=tf.data.AUTOTUNE)\n",
    "val_ds=val_ds.cache().shuffle(1000).prefetch(buffer_size=tf.data.AUTOTUNE)\n",
    "\n",
    "resize_and_rescale = tf.keras.Sequential([\n",
    "    tf.keras.layers.Resizing(IMAGE_SIZE,IMAGE_SIZE),\n",
    "    tf.keras.layers.Rescaling(1.0/255),   \n",
    "])\n",
    "\n",
    "data_augmentation=tf.keras.Sequential([\n",
    "    tf.keras.layers.RandomFlip(\"horizontal_and_vertical\"),\n",
    "    tf.keras.layers.RandomRotation(0.2),\n",
    "]) "
   ]
  },
  {
   "cell_type": "code",
   "execution_count": 10,
   "metadata": {},
   "outputs": [
    {
     "data": {
      "text/html": [
       "<pre style=\"white-space:pre;overflow-x:auto;line-height:normal;font-family:Menlo,'DejaVu Sans Mono',consolas,'Courier New',monospace\"><span style=\"font-weight: bold\">Model: \"sequential_2\"</span>\n",
       "</pre>\n"
      ],
      "text/plain": [
       "\u001b[1mModel: \"sequential_2\"\u001b[0m\n"
      ]
     },
     "metadata": {},
     "output_type": "display_data"
    },
    {
     "data": {
      "text/html": [
       "<pre style=\"white-space:pre;overflow-x:auto;line-height:normal;font-family:Menlo,'DejaVu Sans Mono',consolas,'Courier New',monospace\">┏━━━━━━━━━━━━━━━━━━━━━━━━━━━━━━━━━┳━━━━━━━━━━━━━━━━━━━━━━━━┳━━━━━━━━━━━━━━━┓\n",
       "┃<span style=\"font-weight: bold\"> Layer (type)                    </span>┃<span style=\"font-weight: bold\"> Output Shape           </span>┃<span style=\"font-weight: bold\">       Param # </span>┃\n",
       "┡━━━━━━━━━━━━━━━━━━━━━━━━━━━━━━━━━╇━━━━━━━━━━━━━━━━━━━━━━━━╇━━━━━━━━━━━━━━━┩\n",
       "│ sequential (<span style=\"color: #0087ff; text-decoration-color: #0087ff\">Sequential</span>)         │ (<span style=\"color: #00d7ff; text-decoration-color: #00d7ff\">None</span>, <span style=\"color: #00af00; text-decoration-color: #00af00\">256</span>, <span style=\"color: #00af00; text-decoration-color: #00af00\">256</span>, <span style=\"color: #00af00; text-decoration-color: #00af00\">3</span>)    │             <span style=\"color: #00af00; text-decoration-color: #00af00\">0</span> │\n",
       "├─────────────────────────────────┼────────────────────────┼───────────────┤\n",
       "│ sequential_1 (<span style=\"color: #0087ff; text-decoration-color: #0087ff\">Sequential</span>)       │ (<span style=\"color: #00d7ff; text-decoration-color: #00d7ff\">None</span>, <span style=\"color: #00af00; text-decoration-color: #00af00\">256</span>, <span style=\"color: #00af00; text-decoration-color: #00af00\">256</span>, <span style=\"color: #00af00; text-decoration-color: #00af00\">3</span>)    │             <span style=\"color: #00af00; text-decoration-color: #00af00\">0</span> │\n",
       "├─────────────────────────────────┼────────────────────────┼───────────────┤\n",
       "│ conv2d (<span style=\"color: #0087ff; text-decoration-color: #0087ff\">Conv2D</span>)                 │ (<span style=\"color: #00d7ff; text-decoration-color: #00d7ff\">None</span>, <span style=\"color: #00af00; text-decoration-color: #00af00\">254</span>, <span style=\"color: #00af00; text-decoration-color: #00af00\">254</span>, <span style=\"color: #00af00; text-decoration-color: #00af00\">32</span>)   │           <span style=\"color: #00af00; text-decoration-color: #00af00\">896</span> │\n",
       "├─────────────────────────────────┼────────────────────────┼───────────────┤\n",
       "│ max_pooling2d (<span style=\"color: #0087ff; text-decoration-color: #0087ff\">MaxPooling2D</span>)    │ (<span style=\"color: #00d7ff; text-decoration-color: #00d7ff\">None</span>, <span style=\"color: #00af00; text-decoration-color: #00af00\">127</span>, <span style=\"color: #00af00; text-decoration-color: #00af00\">127</span>, <span style=\"color: #00af00; text-decoration-color: #00af00\">32</span>)   │             <span style=\"color: #00af00; text-decoration-color: #00af00\">0</span> │\n",
       "├─────────────────────────────────┼────────────────────────┼───────────────┤\n",
       "│ conv2d_1 (<span style=\"color: #0087ff; text-decoration-color: #0087ff\">Conv2D</span>)               │ (<span style=\"color: #00d7ff; text-decoration-color: #00d7ff\">None</span>, <span style=\"color: #00af00; text-decoration-color: #00af00\">125</span>, <span style=\"color: #00af00; text-decoration-color: #00af00\">125</span>, <span style=\"color: #00af00; text-decoration-color: #00af00\">64</span>)   │        <span style=\"color: #00af00; text-decoration-color: #00af00\">18,496</span> │\n",
       "├─────────────────────────────────┼────────────────────────┼───────────────┤\n",
       "│ max_pooling2d_1 (<span style=\"color: #0087ff; text-decoration-color: #0087ff\">MaxPooling2D</span>)  │ (<span style=\"color: #00d7ff; text-decoration-color: #00d7ff\">None</span>, <span style=\"color: #00af00; text-decoration-color: #00af00\">62</span>, <span style=\"color: #00af00; text-decoration-color: #00af00\">62</span>, <span style=\"color: #00af00; text-decoration-color: #00af00\">64</span>)     │             <span style=\"color: #00af00; text-decoration-color: #00af00\">0</span> │\n",
       "├─────────────────────────────────┼────────────────────────┼───────────────┤\n",
       "│ conv2d_2 (<span style=\"color: #0087ff; text-decoration-color: #0087ff\">Conv2D</span>)               │ (<span style=\"color: #00d7ff; text-decoration-color: #00d7ff\">None</span>, <span style=\"color: #00af00; text-decoration-color: #00af00\">60</span>, <span style=\"color: #00af00; text-decoration-color: #00af00\">60</span>, <span style=\"color: #00af00; text-decoration-color: #00af00\">64</span>)     │        <span style=\"color: #00af00; text-decoration-color: #00af00\">36,928</span> │\n",
       "├─────────────────────────────────┼────────────────────────┼───────────────┤\n",
       "│ max_pooling2d_2 (<span style=\"color: #0087ff; text-decoration-color: #0087ff\">MaxPooling2D</span>)  │ (<span style=\"color: #00d7ff; text-decoration-color: #00d7ff\">None</span>, <span style=\"color: #00af00; text-decoration-color: #00af00\">30</span>, <span style=\"color: #00af00; text-decoration-color: #00af00\">30</span>, <span style=\"color: #00af00; text-decoration-color: #00af00\">64</span>)     │             <span style=\"color: #00af00; text-decoration-color: #00af00\">0</span> │\n",
       "├─────────────────────────────────┼────────────────────────┼───────────────┤\n",
       "│ conv2d_3 (<span style=\"color: #0087ff; text-decoration-color: #0087ff\">Conv2D</span>)               │ (<span style=\"color: #00d7ff; text-decoration-color: #00d7ff\">None</span>, <span style=\"color: #00af00; text-decoration-color: #00af00\">28</span>, <span style=\"color: #00af00; text-decoration-color: #00af00\">28</span>, <span style=\"color: #00af00; text-decoration-color: #00af00\">64</span>)     │        <span style=\"color: #00af00; text-decoration-color: #00af00\">36,928</span> │\n",
       "├─────────────────────────────────┼────────────────────────┼───────────────┤\n",
       "│ max_pooling2d_3 (<span style=\"color: #0087ff; text-decoration-color: #0087ff\">MaxPooling2D</span>)  │ (<span style=\"color: #00d7ff; text-decoration-color: #00d7ff\">None</span>, <span style=\"color: #00af00; text-decoration-color: #00af00\">14</span>, <span style=\"color: #00af00; text-decoration-color: #00af00\">14</span>, <span style=\"color: #00af00; text-decoration-color: #00af00\">64</span>)     │             <span style=\"color: #00af00; text-decoration-color: #00af00\">0</span> │\n",
       "├─────────────────────────────────┼────────────────────────┼───────────────┤\n",
       "│ conv2d_4 (<span style=\"color: #0087ff; text-decoration-color: #0087ff\">Conv2D</span>)               │ (<span style=\"color: #00d7ff; text-decoration-color: #00d7ff\">None</span>, <span style=\"color: #00af00; text-decoration-color: #00af00\">12</span>, <span style=\"color: #00af00; text-decoration-color: #00af00\">12</span>, <span style=\"color: #00af00; text-decoration-color: #00af00\">64</span>)     │        <span style=\"color: #00af00; text-decoration-color: #00af00\">36,928</span> │\n",
       "├─────────────────────────────────┼────────────────────────┼───────────────┤\n",
       "│ max_pooling2d_4 (<span style=\"color: #0087ff; text-decoration-color: #0087ff\">MaxPooling2D</span>)  │ (<span style=\"color: #00d7ff; text-decoration-color: #00d7ff\">None</span>, <span style=\"color: #00af00; text-decoration-color: #00af00\">6</span>, <span style=\"color: #00af00; text-decoration-color: #00af00\">6</span>, <span style=\"color: #00af00; text-decoration-color: #00af00\">64</span>)       │             <span style=\"color: #00af00; text-decoration-color: #00af00\">0</span> │\n",
       "├─────────────────────────────────┼────────────────────────┼───────────────┤\n",
       "│ conv2d_5 (<span style=\"color: #0087ff; text-decoration-color: #0087ff\">Conv2D</span>)               │ (<span style=\"color: #00d7ff; text-decoration-color: #00d7ff\">None</span>, <span style=\"color: #00af00; text-decoration-color: #00af00\">4</span>, <span style=\"color: #00af00; text-decoration-color: #00af00\">4</span>, <span style=\"color: #00af00; text-decoration-color: #00af00\">64</span>)       │        <span style=\"color: #00af00; text-decoration-color: #00af00\">36,928</span> │\n",
       "├─────────────────────────────────┼────────────────────────┼───────────────┤\n",
       "│ max_pooling2d_5 (<span style=\"color: #0087ff; text-decoration-color: #0087ff\">MaxPooling2D</span>)  │ (<span style=\"color: #00d7ff; text-decoration-color: #00d7ff\">None</span>, <span style=\"color: #00af00; text-decoration-color: #00af00\">2</span>, <span style=\"color: #00af00; text-decoration-color: #00af00\">2</span>, <span style=\"color: #00af00; text-decoration-color: #00af00\">64</span>)       │             <span style=\"color: #00af00; text-decoration-color: #00af00\">0</span> │\n",
       "├─────────────────────────────────┼────────────────────────┼───────────────┤\n",
       "│ flatten (<span style=\"color: #0087ff; text-decoration-color: #0087ff\">Flatten</span>)               │ (<span style=\"color: #00d7ff; text-decoration-color: #00d7ff\">None</span>, <span style=\"color: #00af00; text-decoration-color: #00af00\">256</span>)            │             <span style=\"color: #00af00; text-decoration-color: #00af00\">0</span> │\n",
       "├─────────────────────────────────┼────────────────────────┼───────────────┤\n",
       "│ dense (<span style=\"color: #0087ff; text-decoration-color: #0087ff\">Dense</span>)                   │ (<span style=\"color: #00d7ff; text-decoration-color: #00d7ff\">None</span>, <span style=\"color: #00af00; text-decoration-color: #00af00\">64</span>)             │        <span style=\"color: #00af00; text-decoration-color: #00af00\">16,448</span> │\n",
       "├─────────────────────────────────┼────────────────────────┼───────────────┤\n",
       "│ dense_1 (<span style=\"color: #0087ff; text-decoration-color: #0087ff\">Dense</span>)                 │ (<span style=\"color: #00d7ff; text-decoration-color: #00d7ff\">None</span>, <span style=\"color: #00af00; text-decoration-color: #00af00\">3</span>)              │           <span style=\"color: #00af00; text-decoration-color: #00af00\">195</span> │\n",
       "└─────────────────────────────────┴────────────────────────┴───────────────┘\n",
       "</pre>\n"
      ],
      "text/plain": [
       "┏━━━━━━━━━━━━━━━━━━━━━━━━━━━━━━━━━┳━━━━━━━━━━━━━━━━━━━━━━━━┳━━━━━━━━━━━━━━━┓\n",
       "┃\u001b[1m \u001b[0m\u001b[1mLayer (type)                   \u001b[0m\u001b[1m \u001b[0m┃\u001b[1m \u001b[0m\u001b[1mOutput Shape          \u001b[0m\u001b[1m \u001b[0m┃\u001b[1m \u001b[0m\u001b[1m      Param #\u001b[0m\u001b[1m \u001b[0m┃\n",
       "┡━━━━━━━━━━━━━━━━━━━━━━━━━━━━━━━━━╇━━━━━━━━━━━━━━━━━━━━━━━━╇━━━━━━━━━━━━━━━┩\n",
       "│ sequential (\u001b[38;5;33mSequential\u001b[0m)         │ (\u001b[38;5;45mNone\u001b[0m, \u001b[38;5;34m256\u001b[0m, \u001b[38;5;34m256\u001b[0m, \u001b[38;5;34m3\u001b[0m)    │             \u001b[38;5;34m0\u001b[0m │\n",
       "├─────────────────────────────────┼────────────────────────┼───────────────┤\n",
       "│ sequential_1 (\u001b[38;5;33mSequential\u001b[0m)       │ (\u001b[38;5;45mNone\u001b[0m, \u001b[38;5;34m256\u001b[0m, \u001b[38;5;34m256\u001b[0m, \u001b[38;5;34m3\u001b[0m)    │             \u001b[38;5;34m0\u001b[0m │\n",
       "├─────────────────────────────────┼────────────────────────┼───────────────┤\n",
       "│ conv2d (\u001b[38;5;33mConv2D\u001b[0m)                 │ (\u001b[38;5;45mNone\u001b[0m, \u001b[38;5;34m254\u001b[0m, \u001b[38;5;34m254\u001b[0m, \u001b[38;5;34m32\u001b[0m)   │           \u001b[38;5;34m896\u001b[0m │\n",
       "├─────────────────────────────────┼────────────────────────┼───────────────┤\n",
       "│ max_pooling2d (\u001b[38;5;33mMaxPooling2D\u001b[0m)    │ (\u001b[38;5;45mNone\u001b[0m, \u001b[38;5;34m127\u001b[0m, \u001b[38;5;34m127\u001b[0m, \u001b[38;5;34m32\u001b[0m)   │             \u001b[38;5;34m0\u001b[0m │\n",
       "├─────────────────────────────────┼────────────────────────┼───────────────┤\n",
       "│ conv2d_1 (\u001b[38;5;33mConv2D\u001b[0m)               │ (\u001b[38;5;45mNone\u001b[0m, \u001b[38;5;34m125\u001b[0m, \u001b[38;5;34m125\u001b[0m, \u001b[38;5;34m64\u001b[0m)   │        \u001b[38;5;34m18,496\u001b[0m │\n",
       "├─────────────────────────────────┼────────────────────────┼───────────────┤\n",
       "│ max_pooling2d_1 (\u001b[38;5;33mMaxPooling2D\u001b[0m)  │ (\u001b[38;5;45mNone\u001b[0m, \u001b[38;5;34m62\u001b[0m, \u001b[38;5;34m62\u001b[0m, \u001b[38;5;34m64\u001b[0m)     │             \u001b[38;5;34m0\u001b[0m │\n",
       "├─────────────────────────────────┼────────────────────────┼───────────────┤\n",
       "│ conv2d_2 (\u001b[38;5;33mConv2D\u001b[0m)               │ (\u001b[38;5;45mNone\u001b[0m, \u001b[38;5;34m60\u001b[0m, \u001b[38;5;34m60\u001b[0m, \u001b[38;5;34m64\u001b[0m)     │        \u001b[38;5;34m36,928\u001b[0m │\n",
       "├─────────────────────────────────┼────────────────────────┼───────────────┤\n",
       "│ max_pooling2d_2 (\u001b[38;5;33mMaxPooling2D\u001b[0m)  │ (\u001b[38;5;45mNone\u001b[0m, \u001b[38;5;34m30\u001b[0m, \u001b[38;5;34m30\u001b[0m, \u001b[38;5;34m64\u001b[0m)     │             \u001b[38;5;34m0\u001b[0m │\n",
       "├─────────────────────────────────┼────────────────────────┼───────────────┤\n",
       "│ conv2d_3 (\u001b[38;5;33mConv2D\u001b[0m)               │ (\u001b[38;5;45mNone\u001b[0m, \u001b[38;5;34m28\u001b[0m, \u001b[38;5;34m28\u001b[0m, \u001b[38;5;34m64\u001b[0m)     │        \u001b[38;5;34m36,928\u001b[0m │\n",
       "├─────────────────────────────────┼────────────────────────┼───────────────┤\n",
       "│ max_pooling2d_3 (\u001b[38;5;33mMaxPooling2D\u001b[0m)  │ (\u001b[38;5;45mNone\u001b[0m, \u001b[38;5;34m14\u001b[0m, \u001b[38;5;34m14\u001b[0m, \u001b[38;5;34m64\u001b[0m)     │             \u001b[38;5;34m0\u001b[0m │\n",
       "├─────────────────────────────────┼────────────────────────┼───────────────┤\n",
       "│ conv2d_4 (\u001b[38;5;33mConv2D\u001b[0m)               │ (\u001b[38;5;45mNone\u001b[0m, \u001b[38;5;34m12\u001b[0m, \u001b[38;5;34m12\u001b[0m, \u001b[38;5;34m64\u001b[0m)     │        \u001b[38;5;34m36,928\u001b[0m │\n",
       "├─────────────────────────────────┼────────────────────────┼───────────────┤\n",
       "│ max_pooling2d_4 (\u001b[38;5;33mMaxPooling2D\u001b[0m)  │ (\u001b[38;5;45mNone\u001b[0m, \u001b[38;5;34m6\u001b[0m, \u001b[38;5;34m6\u001b[0m, \u001b[38;5;34m64\u001b[0m)       │             \u001b[38;5;34m0\u001b[0m │\n",
       "├─────────────────────────────────┼────────────────────────┼───────────────┤\n",
       "│ conv2d_5 (\u001b[38;5;33mConv2D\u001b[0m)               │ (\u001b[38;5;45mNone\u001b[0m, \u001b[38;5;34m4\u001b[0m, \u001b[38;5;34m4\u001b[0m, \u001b[38;5;34m64\u001b[0m)       │        \u001b[38;5;34m36,928\u001b[0m │\n",
       "├─────────────────────────────────┼────────────────────────┼───────────────┤\n",
       "│ max_pooling2d_5 (\u001b[38;5;33mMaxPooling2D\u001b[0m)  │ (\u001b[38;5;45mNone\u001b[0m, \u001b[38;5;34m2\u001b[0m, \u001b[38;5;34m2\u001b[0m, \u001b[38;5;34m64\u001b[0m)       │             \u001b[38;5;34m0\u001b[0m │\n",
       "├─────────────────────────────────┼────────────────────────┼───────────────┤\n",
       "│ flatten (\u001b[38;5;33mFlatten\u001b[0m)               │ (\u001b[38;5;45mNone\u001b[0m, \u001b[38;5;34m256\u001b[0m)            │             \u001b[38;5;34m0\u001b[0m │\n",
       "├─────────────────────────────────┼────────────────────────┼───────────────┤\n",
       "│ dense (\u001b[38;5;33mDense\u001b[0m)                   │ (\u001b[38;5;45mNone\u001b[0m, \u001b[38;5;34m64\u001b[0m)             │        \u001b[38;5;34m16,448\u001b[0m │\n",
       "├─────────────────────────────────┼────────────────────────┼───────────────┤\n",
       "│ dense_1 (\u001b[38;5;33mDense\u001b[0m)                 │ (\u001b[38;5;45mNone\u001b[0m, \u001b[38;5;34m3\u001b[0m)              │           \u001b[38;5;34m195\u001b[0m │\n",
       "└─────────────────────────────────┴────────────────────────┴───────────────┘\n"
      ]
     },
     "metadata": {},
     "output_type": "display_data"
    },
    {
     "data": {
      "text/html": [
       "<pre style=\"white-space:pre;overflow-x:auto;line-height:normal;font-family:Menlo,'DejaVu Sans Mono',consolas,'Courier New',monospace\"><span style=\"font-weight: bold\"> Total params: </span><span style=\"color: #00af00; text-decoration-color: #00af00\">183,747</span> (717.76 KB)\n",
       "</pre>\n"
      ],
      "text/plain": [
       "\u001b[1m Total params: \u001b[0m\u001b[38;5;34m183,747\u001b[0m (717.76 KB)\n"
      ]
     },
     "metadata": {},
     "output_type": "display_data"
    },
    {
     "data": {
      "text/html": [
       "<pre style=\"white-space:pre;overflow-x:auto;line-height:normal;font-family:Menlo,'DejaVu Sans Mono',consolas,'Courier New',monospace\"><span style=\"font-weight: bold\"> Trainable params: </span><span style=\"color: #00af00; text-decoration-color: #00af00\">183,747</span> (717.76 KB)\n",
       "</pre>\n"
      ],
      "text/plain": [
       "\u001b[1m Trainable params: \u001b[0m\u001b[38;5;34m183,747\u001b[0m (717.76 KB)\n"
      ]
     },
     "metadata": {},
     "output_type": "display_data"
    },
    {
     "data": {
      "text/html": [
       "<pre style=\"white-space:pre;overflow-x:auto;line-height:normal;font-family:Menlo,'DejaVu Sans Mono',consolas,'Courier New',monospace\"><span style=\"font-weight: bold\"> Non-trainable params: </span><span style=\"color: #00af00; text-decoration-color: #00af00\">0</span> (0.00 B)\n",
       "</pre>\n"
      ],
      "text/plain": [
       "\u001b[1m Non-trainable params: \u001b[0m\u001b[38;5;34m0\u001b[0m (0.00 B)\n"
      ]
     },
     "metadata": {},
     "output_type": "display_data"
    }
   ],
   "source": [
    "IMAGE_SIZE = 256  # Example image size\n",
    "CHANNELS = 3  # For RGB images\n",
    "n_classes = 3\n",
    "\n",
    "# Define the model\n",
    "model = tf.keras.Sequential([\n",
    "    tf.keras.Input(shape=(IMAGE_SIZE, IMAGE_SIZE, CHANNELS)),  # Define input shape here\n",
    "    resize_and_rescale,  # Rescaling and resizing layers\n",
    "    data_augmentation,   # Data augmentation layers\n",
    "    layers.Conv2D(32, (3, 3), activation=\"relu\"),  # No input_shape here\n",
    "    layers.MaxPooling2D((2, 2)),\n",
    "    layers.Conv2D(64, kernel_size=(3, 3), activation=\"relu\"),\n",
    "    layers.MaxPooling2D((2, 2)),\n",
    "    layers.Conv2D(64, kernel_size=(3, 3), activation=\"relu\"),\n",
    "    layers.MaxPooling2D((2, 2)),\n",
    "    layers.Conv2D(64, kernel_size=(3, 3), activation=\"relu\"),\n",
    "    layers.MaxPooling2D((2, 2)),\n",
    "    layers.Conv2D(64, kernel_size=(3, 3), activation=\"relu\"),\n",
    "    layers.MaxPooling2D((2, 2)),\n",
    "    layers.Conv2D(64, kernel_size=(3, 3), activation=\"relu\"),\n",
    "    layers.MaxPooling2D((2, 2)),\n",
    "    layers.Flatten(),\n",
    "    layers.Dense(64, activation=\"relu\"),\n",
    "    layers.Dense(n_classes, activation=\"softmax\"),\n",
    "])\n",
    "\n",
    "# No need for model.build(input_shape=input_shape)\n",
    "model.summary()\n"
   ]
  },
  {
   "cell_type": "code",
   "execution_count": 11,
   "metadata": {},
   "outputs": [
    {
     "data": {
      "text/html": [
       "<pre style=\"white-space:pre;overflow-x:auto;line-height:normal;font-family:Menlo,'DejaVu Sans Mono',consolas,'Courier New',monospace\"><span style=\"font-weight: bold\">Model: \"sequential_3\"</span>\n",
       "</pre>\n"
      ],
      "text/plain": [
       "\u001b[1mModel: \"sequential_3\"\u001b[0m\n"
      ]
     },
     "metadata": {},
     "output_type": "display_data"
    },
    {
     "data": {
      "text/html": [
       "<pre style=\"white-space:pre;overflow-x:auto;line-height:normal;font-family:Menlo,'DejaVu Sans Mono',consolas,'Courier New',monospace\">┏━━━━━━━━━━━━━━━━━━━━━━━━━━━━━━━━━┳━━━━━━━━━━━━━━━━━━━━━━━━┳━━━━━━━━━━━━━━━┓\n",
       "┃<span style=\"font-weight: bold\"> Layer (type)                    </span>┃<span style=\"font-weight: bold\"> Output Shape           </span>┃<span style=\"font-weight: bold\">       Param # </span>┃\n",
       "┡━━━━━━━━━━━━━━━━━━━━━━━━━━━━━━━━━╇━━━━━━━━━━━━━━━━━━━━━━━━╇━━━━━━━━━━━━━━━┩\n",
       "│ sequential (<span style=\"color: #0087ff; text-decoration-color: #0087ff\">Sequential</span>)         │ (<span style=\"color: #00d7ff; text-decoration-color: #00d7ff\">None</span>, <span style=\"color: #00af00; text-decoration-color: #00af00\">256</span>, <span style=\"color: #00af00; text-decoration-color: #00af00\">256</span>, <span style=\"color: #00af00; text-decoration-color: #00af00\">3</span>)    │             <span style=\"color: #00af00; text-decoration-color: #00af00\">0</span> │\n",
       "├─────────────────────────────────┼────────────────────────┼───────────────┤\n",
       "│ sequential_1 (<span style=\"color: #0087ff; text-decoration-color: #0087ff\">Sequential</span>)       │ (<span style=\"color: #00d7ff; text-decoration-color: #00d7ff\">None</span>, <span style=\"color: #00af00; text-decoration-color: #00af00\">256</span>, <span style=\"color: #00af00; text-decoration-color: #00af00\">256</span>, <span style=\"color: #00af00; text-decoration-color: #00af00\">3</span>)    │             <span style=\"color: #00af00; text-decoration-color: #00af00\">0</span> │\n",
       "├─────────────────────────────────┼────────────────────────┼───────────────┤\n",
       "│ conv2d_6 (<span style=\"color: #0087ff; text-decoration-color: #0087ff\">Conv2D</span>)               │ (<span style=\"color: #00d7ff; text-decoration-color: #00d7ff\">None</span>, <span style=\"color: #00af00; text-decoration-color: #00af00\">254</span>, <span style=\"color: #00af00; text-decoration-color: #00af00\">254</span>, <span style=\"color: #00af00; text-decoration-color: #00af00\">32</span>)   │           <span style=\"color: #00af00; text-decoration-color: #00af00\">896</span> │\n",
       "├─────────────────────────────────┼────────────────────────┼───────────────┤\n",
       "│ max_pooling2d_6 (<span style=\"color: #0087ff; text-decoration-color: #0087ff\">MaxPooling2D</span>)  │ (<span style=\"color: #00d7ff; text-decoration-color: #00d7ff\">None</span>, <span style=\"color: #00af00; text-decoration-color: #00af00\">127</span>, <span style=\"color: #00af00; text-decoration-color: #00af00\">127</span>, <span style=\"color: #00af00; text-decoration-color: #00af00\">32</span>)   │             <span style=\"color: #00af00; text-decoration-color: #00af00\">0</span> │\n",
       "├─────────────────────────────────┼────────────────────────┼───────────────┤\n",
       "│ conv2d_7 (<span style=\"color: #0087ff; text-decoration-color: #0087ff\">Conv2D</span>)               │ (<span style=\"color: #00d7ff; text-decoration-color: #00d7ff\">None</span>, <span style=\"color: #00af00; text-decoration-color: #00af00\">125</span>, <span style=\"color: #00af00; text-decoration-color: #00af00\">125</span>, <span style=\"color: #00af00; text-decoration-color: #00af00\">64</span>)   │        <span style=\"color: #00af00; text-decoration-color: #00af00\">18,496</span> │\n",
       "├─────────────────────────────────┼────────────────────────┼───────────────┤\n",
       "│ max_pooling2d_7 (<span style=\"color: #0087ff; text-decoration-color: #0087ff\">MaxPooling2D</span>)  │ (<span style=\"color: #00d7ff; text-decoration-color: #00d7ff\">None</span>, <span style=\"color: #00af00; text-decoration-color: #00af00\">62</span>, <span style=\"color: #00af00; text-decoration-color: #00af00\">62</span>, <span style=\"color: #00af00; text-decoration-color: #00af00\">64</span>)     │             <span style=\"color: #00af00; text-decoration-color: #00af00\">0</span> │\n",
       "├─────────────────────────────────┼────────────────────────┼───────────────┤\n",
       "│ conv2d_8 (<span style=\"color: #0087ff; text-decoration-color: #0087ff\">Conv2D</span>)               │ (<span style=\"color: #00d7ff; text-decoration-color: #00d7ff\">None</span>, <span style=\"color: #00af00; text-decoration-color: #00af00\">60</span>, <span style=\"color: #00af00; text-decoration-color: #00af00\">60</span>, <span style=\"color: #00af00; text-decoration-color: #00af00\">64</span>)     │        <span style=\"color: #00af00; text-decoration-color: #00af00\">36,928</span> │\n",
       "├─────────────────────────────────┼────────────────────────┼───────────────┤\n",
       "│ max_pooling2d_8 (<span style=\"color: #0087ff; text-decoration-color: #0087ff\">MaxPooling2D</span>)  │ (<span style=\"color: #00d7ff; text-decoration-color: #00d7ff\">None</span>, <span style=\"color: #00af00; text-decoration-color: #00af00\">30</span>, <span style=\"color: #00af00; text-decoration-color: #00af00\">30</span>, <span style=\"color: #00af00; text-decoration-color: #00af00\">64</span>)     │             <span style=\"color: #00af00; text-decoration-color: #00af00\">0</span> │\n",
       "├─────────────────────────────────┼────────────────────────┼───────────────┤\n",
       "│ conv2d_9 (<span style=\"color: #0087ff; text-decoration-color: #0087ff\">Conv2D</span>)               │ (<span style=\"color: #00d7ff; text-decoration-color: #00d7ff\">None</span>, <span style=\"color: #00af00; text-decoration-color: #00af00\">28</span>, <span style=\"color: #00af00; text-decoration-color: #00af00\">28</span>, <span style=\"color: #00af00; text-decoration-color: #00af00\">64</span>)     │        <span style=\"color: #00af00; text-decoration-color: #00af00\">36,928</span> │\n",
       "├─────────────────────────────────┼────────────────────────┼───────────────┤\n",
       "│ max_pooling2d_9 (<span style=\"color: #0087ff; text-decoration-color: #0087ff\">MaxPooling2D</span>)  │ (<span style=\"color: #00d7ff; text-decoration-color: #00d7ff\">None</span>, <span style=\"color: #00af00; text-decoration-color: #00af00\">14</span>, <span style=\"color: #00af00; text-decoration-color: #00af00\">14</span>, <span style=\"color: #00af00; text-decoration-color: #00af00\">64</span>)     │             <span style=\"color: #00af00; text-decoration-color: #00af00\">0</span> │\n",
       "├─────────────────────────────────┼────────────────────────┼───────────────┤\n",
       "│ conv2d_10 (<span style=\"color: #0087ff; text-decoration-color: #0087ff\">Conv2D</span>)              │ (<span style=\"color: #00d7ff; text-decoration-color: #00d7ff\">None</span>, <span style=\"color: #00af00; text-decoration-color: #00af00\">12</span>, <span style=\"color: #00af00; text-decoration-color: #00af00\">12</span>, <span style=\"color: #00af00; text-decoration-color: #00af00\">64</span>)     │        <span style=\"color: #00af00; text-decoration-color: #00af00\">36,928</span> │\n",
       "├─────────────────────────────────┼────────────────────────┼───────────────┤\n",
       "│ max_pooling2d_10 (<span style=\"color: #0087ff; text-decoration-color: #0087ff\">MaxPooling2D</span>) │ (<span style=\"color: #00d7ff; text-decoration-color: #00d7ff\">None</span>, <span style=\"color: #00af00; text-decoration-color: #00af00\">6</span>, <span style=\"color: #00af00; text-decoration-color: #00af00\">6</span>, <span style=\"color: #00af00; text-decoration-color: #00af00\">64</span>)       │             <span style=\"color: #00af00; text-decoration-color: #00af00\">0</span> │\n",
       "├─────────────────────────────────┼────────────────────────┼───────────────┤\n",
       "│ conv2d_11 (<span style=\"color: #0087ff; text-decoration-color: #0087ff\">Conv2D</span>)              │ (<span style=\"color: #00d7ff; text-decoration-color: #00d7ff\">None</span>, <span style=\"color: #00af00; text-decoration-color: #00af00\">4</span>, <span style=\"color: #00af00; text-decoration-color: #00af00\">4</span>, <span style=\"color: #00af00; text-decoration-color: #00af00\">64</span>)       │        <span style=\"color: #00af00; text-decoration-color: #00af00\">36,928</span> │\n",
       "├─────────────────────────────────┼────────────────────────┼───────────────┤\n",
       "│ max_pooling2d_11 (<span style=\"color: #0087ff; text-decoration-color: #0087ff\">MaxPooling2D</span>) │ (<span style=\"color: #00d7ff; text-decoration-color: #00d7ff\">None</span>, <span style=\"color: #00af00; text-decoration-color: #00af00\">2</span>, <span style=\"color: #00af00; text-decoration-color: #00af00\">2</span>, <span style=\"color: #00af00; text-decoration-color: #00af00\">64</span>)       │             <span style=\"color: #00af00; text-decoration-color: #00af00\">0</span> │\n",
       "├─────────────────────────────────┼────────────────────────┼───────────────┤\n",
       "│ flatten_1 (<span style=\"color: #0087ff; text-decoration-color: #0087ff\">Flatten</span>)             │ (<span style=\"color: #00d7ff; text-decoration-color: #00d7ff\">None</span>, <span style=\"color: #00af00; text-decoration-color: #00af00\">256</span>)            │             <span style=\"color: #00af00; text-decoration-color: #00af00\">0</span> │\n",
       "├─────────────────────────────────┼────────────────────────┼───────────────┤\n",
       "│ dense_2 (<span style=\"color: #0087ff; text-decoration-color: #0087ff\">Dense</span>)                 │ (<span style=\"color: #00d7ff; text-decoration-color: #00d7ff\">None</span>, <span style=\"color: #00af00; text-decoration-color: #00af00\">64</span>)             │        <span style=\"color: #00af00; text-decoration-color: #00af00\">16,448</span> │\n",
       "├─────────────────────────────────┼────────────────────────┼───────────────┤\n",
       "│ dense_3 (<span style=\"color: #0087ff; text-decoration-color: #0087ff\">Dense</span>)                 │ (<span style=\"color: #00d7ff; text-decoration-color: #00d7ff\">None</span>, <span style=\"color: #00af00; text-decoration-color: #00af00\">4</span>)              │           <span style=\"color: #00af00; text-decoration-color: #00af00\">260</span> │\n",
       "└─────────────────────────────────┴────────────────────────┴───────────────┘\n",
       "</pre>\n"
      ],
      "text/plain": [
       "┏━━━━━━━━━━━━━━━━━━━━━━━━━━━━━━━━━┳━━━━━━━━━━━━━━━━━━━━━━━━┳━━━━━━━━━━━━━━━┓\n",
       "┃\u001b[1m \u001b[0m\u001b[1mLayer (type)                   \u001b[0m\u001b[1m \u001b[0m┃\u001b[1m \u001b[0m\u001b[1mOutput Shape          \u001b[0m\u001b[1m \u001b[0m┃\u001b[1m \u001b[0m\u001b[1m      Param #\u001b[0m\u001b[1m \u001b[0m┃\n",
       "┡━━━━━━━━━━━━━━━━━━━━━━━━━━━━━━━━━╇━━━━━━━━━━━━━━━━━━━━━━━━╇━━━━━━━━━━━━━━━┩\n",
       "│ sequential (\u001b[38;5;33mSequential\u001b[0m)         │ (\u001b[38;5;45mNone\u001b[0m, \u001b[38;5;34m256\u001b[0m, \u001b[38;5;34m256\u001b[0m, \u001b[38;5;34m3\u001b[0m)    │             \u001b[38;5;34m0\u001b[0m │\n",
       "├─────────────────────────────────┼────────────────────────┼───────────────┤\n",
       "│ sequential_1 (\u001b[38;5;33mSequential\u001b[0m)       │ (\u001b[38;5;45mNone\u001b[0m, \u001b[38;5;34m256\u001b[0m, \u001b[38;5;34m256\u001b[0m, \u001b[38;5;34m3\u001b[0m)    │             \u001b[38;5;34m0\u001b[0m │\n",
       "├─────────────────────────────────┼────────────────────────┼───────────────┤\n",
       "│ conv2d_6 (\u001b[38;5;33mConv2D\u001b[0m)               │ (\u001b[38;5;45mNone\u001b[0m, \u001b[38;5;34m254\u001b[0m, \u001b[38;5;34m254\u001b[0m, \u001b[38;5;34m32\u001b[0m)   │           \u001b[38;5;34m896\u001b[0m │\n",
       "├─────────────────────────────────┼────────────────────────┼───────────────┤\n",
       "│ max_pooling2d_6 (\u001b[38;5;33mMaxPooling2D\u001b[0m)  │ (\u001b[38;5;45mNone\u001b[0m, \u001b[38;5;34m127\u001b[0m, \u001b[38;5;34m127\u001b[0m, \u001b[38;5;34m32\u001b[0m)   │             \u001b[38;5;34m0\u001b[0m │\n",
       "├─────────────────────────────────┼────────────────────────┼───────────────┤\n",
       "│ conv2d_7 (\u001b[38;5;33mConv2D\u001b[0m)               │ (\u001b[38;5;45mNone\u001b[0m, \u001b[38;5;34m125\u001b[0m, \u001b[38;5;34m125\u001b[0m, \u001b[38;5;34m64\u001b[0m)   │        \u001b[38;5;34m18,496\u001b[0m │\n",
       "├─────────────────────────────────┼────────────────────────┼───────────────┤\n",
       "│ max_pooling2d_7 (\u001b[38;5;33mMaxPooling2D\u001b[0m)  │ (\u001b[38;5;45mNone\u001b[0m, \u001b[38;5;34m62\u001b[0m, \u001b[38;5;34m62\u001b[0m, \u001b[38;5;34m64\u001b[0m)     │             \u001b[38;5;34m0\u001b[0m │\n",
       "├─────────────────────────────────┼────────────────────────┼───────────────┤\n",
       "│ conv2d_8 (\u001b[38;5;33mConv2D\u001b[0m)               │ (\u001b[38;5;45mNone\u001b[0m, \u001b[38;5;34m60\u001b[0m, \u001b[38;5;34m60\u001b[0m, \u001b[38;5;34m64\u001b[0m)     │        \u001b[38;5;34m36,928\u001b[0m │\n",
       "├─────────────────────────────────┼────────────────────────┼───────────────┤\n",
       "│ max_pooling2d_8 (\u001b[38;5;33mMaxPooling2D\u001b[0m)  │ (\u001b[38;5;45mNone\u001b[0m, \u001b[38;5;34m30\u001b[0m, \u001b[38;5;34m30\u001b[0m, \u001b[38;5;34m64\u001b[0m)     │             \u001b[38;5;34m0\u001b[0m │\n",
       "├─────────────────────────────────┼────────────────────────┼───────────────┤\n",
       "│ conv2d_9 (\u001b[38;5;33mConv2D\u001b[0m)               │ (\u001b[38;5;45mNone\u001b[0m, \u001b[38;5;34m28\u001b[0m, \u001b[38;5;34m28\u001b[0m, \u001b[38;5;34m64\u001b[0m)     │        \u001b[38;5;34m36,928\u001b[0m │\n",
       "├─────────────────────────────────┼────────────────────────┼───────────────┤\n",
       "│ max_pooling2d_9 (\u001b[38;5;33mMaxPooling2D\u001b[0m)  │ (\u001b[38;5;45mNone\u001b[0m, \u001b[38;5;34m14\u001b[0m, \u001b[38;5;34m14\u001b[0m, \u001b[38;5;34m64\u001b[0m)     │             \u001b[38;5;34m0\u001b[0m │\n",
       "├─────────────────────────────────┼────────────────────────┼───────────────┤\n",
       "│ conv2d_10 (\u001b[38;5;33mConv2D\u001b[0m)              │ (\u001b[38;5;45mNone\u001b[0m, \u001b[38;5;34m12\u001b[0m, \u001b[38;5;34m12\u001b[0m, \u001b[38;5;34m64\u001b[0m)     │        \u001b[38;5;34m36,928\u001b[0m │\n",
       "├─────────────────────────────────┼────────────────────────┼───────────────┤\n",
       "│ max_pooling2d_10 (\u001b[38;5;33mMaxPooling2D\u001b[0m) │ (\u001b[38;5;45mNone\u001b[0m, \u001b[38;5;34m6\u001b[0m, \u001b[38;5;34m6\u001b[0m, \u001b[38;5;34m64\u001b[0m)       │             \u001b[38;5;34m0\u001b[0m │\n",
       "├─────────────────────────────────┼────────────────────────┼───────────────┤\n",
       "│ conv2d_11 (\u001b[38;5;33mConv2D\u001b[0m)              │ (\u001b[38;5;45mNone\u001b[0m, \u001b[38;5;34m4\u001b[0m, \u001b[38;5;34m4\u001b[0m, \u001b[38;5;34m64\u001b[0m)       │        \u001b[38;5;34m36,928\u001b[0m │\n",
       "├─────────────────────────────────┼────────────────────────┼───────────────┤\n",
       "│ max_pooling2d_11 (\u001b[38;5;33mMaxPooling2D\u001b[0m) │ (\u001b[38;5;45mNone\u001b[0m, \u001b[38;5;34m2\u001b[0m, \u001b[38;5;34m2\u001b[0m, \u001b[38;5;34m64\u001b[0m)       │             \u001b[38;5;34m0\u001b[0m │\n",
       "├─────────────────────────────────┼────────────────────────┼───────────────┤\n",
       "│ flatten_1 (\u001b[38;5;33mFlatten\u001b[0m)             │ (\u001b[38;5;45mNone\u001b[0m, \u001b[38;5;34m256\u001b[0m)            │             \u001b[38;5;34m0\u001b[0m │\n",
       "├─────────────────────────────────┼────────────────────────┼───────────────┤\n",
       "│ dense_2 (\u001b[38;5;33mDense\u001b[0m)                 │ (\u001b[38;5;45mNone\u001b[0m, \u001b[38;5;34m64\u001b[0m)             │        \u001b[38;5;34m16,448\u001b[0m │\n",
       "├─────────────────────────────────┼────────────────────────┼───────────────┤\n",
       "│ dense_3 (\u001b[38;5;33mDense\u001b[0m)                 │ (\u001b[38;5;45mNone\u001b[0m, \u001b[38;5;34m4\u001b[0m)              │           \u001b[38;5;34m260\u001b[0m │\n",
       "└─────────────────────────────────┴────────────────────────┴───────────────┘\n"
      ]
     },
     "metadata": {},
     "output_type": "display_data"
    },
    {
     "data": {
      "text/html": [
       "<pre style=\"white-space:pre;overflow-x:auto;line-height:normal;font-family:Menlo,'DejaVu Sans Mono',consolas,'Courier New',monospace\"><span style=\"font-weight: bold\"> Total params: </span><span style=\"color: #00af00; text-decoration-color: #00af00\">183,812</span> (718.02 KB)\n",
       "</pre>\n"
      ],
      "text/plain": [
       "\u001b[1m Total params: \u001b[0m\u001b[38;5;34m183,812\u001b[0m (718.02 KB)\n"
      ]
     },
     "metadata": {},
     "output_type": "display_data"
    },
    {
     "data": {
      "text/html": [
       "<pre style=\"white-space:pre;overflow-x:auto;line-height:normal;font-family:Menlo,'DejaVu Sans Mono',consolas,'Courier New',monospace\"><span style=\"font-weight: bold\"> Trainable params: </span><span style=\"color: #00af00; text-decoration-color: #00af00\">183,812</span> (718.02 KB)\n",
       "</pre>\n"
      ],
      "text/plain": [
       "\u001b[1m Trainable params: \u001b[0m\u001b[38;5;34m183,812\u001b[0m (718.02 KB)\n"
      ]
     },
     "metadata": {},
     "output_type": "display_data"
    },
    {
     "data": {
      "text/html": [
       "<pre style=\"white-space:pre;overflow-x:auto;line-height:normal;font-family:Menlo,'DejaVu Sans Mono',consolas,'Courier New',monospace\"><span style=\"font-weight: bold\"> Non-trainable params: </span><span style=\"color: #00af00; text-decoration-color: #00af00\">0</span> (0.00 B)\n",
       "</pre>\n"
      ],
      "text/plain": [
       "\u001b[1m Non-trainable params: \u001b[0m\u001b[38;5;34m0\u001b[0m (0.00 B)\n"
      ]
     },
     "metadata": {},
     "output_type": "display_data"
    }
   ],
   "source": [
    "IMAGE_SIZE = 256  # Example image size\n",
    "CHANNELS = 3  # For RGB images\n",
    "n_classes = 4\n",
    "\n",
    "# Define the model\n",
    "model = tf.keras.Sequential([\n",
    "    tf.keras.Input(shape=(IMAGE_SIZE, IMAGE_SIZE, CHANNELS)),  # Define input shape here\n",
    "    resize_and_rescale,  # Rescaling and resizing layers\n",
    "    data_augmentation,   # Data augmentation layers\n",
    "    layers.Conv2D(32, (3, 3), activation=\"relu\"),  # No input_shape here\n",
    "    layers.MaxPooling2D((2, 2)),\n",
    "    layers.Conv2D(64, kernel_size=(3, 3), activation=\"relu\"),\n",
    "    layers.MaxPooling2D((2, 2)),\n",
    "    layers.Conv2D(64, kernel_size=(3, 3), activation=\"relu\"),\n",
    "    layers.MaxPooling2D((2, 2)),\n",
    "    layers.Conv2D(64, kernel_size=(3, 3), activation=\"relu\"),\n",
    "    layers.MaxPooling2D((2, 2)),\n",
    "    layers.Conv2D(64, kernel_size=(3, 3), activation=\"relu\"),\n",
    "    layers.MaxPooling2D((2, 2)),\n",
    "    layers.Conv2D(64, kernel_size=(3, 3), activation=\"relu\"),\n",
    "    layers.MaxPooling2D((2, 2)),\n",
    "    layers.Flatten(),\n",
    "    layers.Dense(64, activation=\"relu\"),\n",
    "    layers.Dense(n_classes, activation=\"softmax\"),\n",
    "])\n",
    "\n",
    "# No need for model.build(input_shape=input_shape)\n",
    "model.summary()\n"
   ]
  },
  {
   "cell_type": "code",
   "execution_count": 17,
   "metadata": {},
   "outputs": [],
   "source": [
    "model.compile(\n",
    "    optimizer=\"adam\",\n",
    "    loss=tf.keras.losses.SparseCategoricalCrossentropy(from_logits=False),\n",
    "    metrics=[\"accuracy\"],  \n",
    "    )"
   ]
  },
  {
   "cell_type": "code",
   "execution_count": 32,
   "metadata": {},
   "outputs": [],
   "source": [
    "plt.figure(figsize=((8,8)))\n",
    "plt.subplot(1,2,1)\n",
    "plt.plot(range(EPOCHS),acc,label=\"Training Accuracy\")\n",
    "plt.plot(range(EPOCHS), val_acc,label=\"Validation Accuracy\")\n",
    "plt.legend(loc=\"lower right\")\n",
    "plt.title(\"Training and Validation Accuracy\")\n",
    "\n",
    "plt.subplot(1,2,2)\n",
    "plt.plot(range(EPOCHS),loss,label=\"Training loss\")\n",
    "plt.plot(range(EPOCHS),val_loss,label=\"Validation Loss\")\n",
    "plt.legend(loc=\"upper right\")\n",
    "plt.title(\"Training and Validation loss\")\n",
    "plt.show()\n",
    "\n"
   ]
  },
  {
   "cell_type": "code",
   "execution_count": null,
   "metadata": {},
   "outputs": [],
   "source": []
  },
  {
   "cell_type": "code",
   "execution_count": 24,
   "metadata": {},
   "outputs": [
    {
     "name": "stdout",
     "output_type": "stream",
     "text": [
      "Epoch 1/50\n",
      "\u001b[1m54/54\u001b[0m \u001b[32m━━━━━━━━━━━━━━━━━━━━\u001b[0m\u001b[37m\u001b[0m \u001b[1m232s\u001b[0m 4s/step - accuracy: 0.9941 - loss: 0.0275 - val_accuracy: 0.9688 - val_loss: 0.0572\n",
      "Epoch 2/50\n",
      "\u001b[1m54/54\u001b[0m \u001b[32m━━━━━━━━━━━━━━━━━━━━\u001b[0m\u001b[37m\u001b[0m \u001b[1m381s\u001b[0m 7s/step - accuracy: 0.9890 - loss: 0.0367 - val_accuracy: 0.9375 - val_loss: 0.2311\n",
      "Epoch 3/50\n",
      "\u001b[1m54/54\u001b[0m \u001b[32m━━━━━━━━━━━━━━━━━━━━\u001b[0m\u001b[37m\u001b[0m \u001b[1m288s\u001b[0m 5s/step - accuracy: 0.9658 - loss: 0.1030 - val_accuracy: 0.9844 - val_loss: 0.0327\n",
      "Epoch 4/50\n",
      "\u001b[1m54/54\u001b[0m \u001b[32m━━━━━━━━━━━━━━━━━━━━\u001b[0m\u001b[37m\u001b[0m \u001b[1m227s\u001b[0m 4s/step - accuracy: 0.9758 - loss: 0.0646 - val_accuracy: 0.9740 - val_loss: 0.0429\n",
      "Epoch 5/50\n",
      "\u001b[1m54/54\u001b[0m \u001b[32m━━━━━━━━━━━━━━━━━━━━\u001b[0m\u001b[37m\u001b[0m \u001b[1m319s\u001b[0m 6s/step - accuracy: 0.9914 - loss: 0.0221 - val_accuracy: 0.9688 - val_loss: 0.0895\n",
      "Epoch 6/50\n",
      "\u001b[1m54/54\u001b[0m \u001b[32m━━━━━━━━━━━━━━━━━━━━\u001b[0m\u001b[37m\u001b[0m \u001b[1m172s\u001b[0m 3s/step - accuracy: 0.9802 - loss: 0.0463 - val_accuracy: 0.9948 - val_loss: 0.0149\n",
      "Epoch 7/50\n",
      "\u001b[1m54/54\u001b[0m \u001b[32m━━━━━━━━━━━━━━━━━━━━\u001b[0m\u001b[37m\u001b[0m \u001b[1m151s\u001b[0m 3s/step - accuracy: 0.9948 - loss: 0.0154 - val_accuracy: 0.9948 - val_loss: 0.0340\n",
      "Epoch 8/50\n",
      "\u001b[1m54/54\u001b[0m \u001b[32m━━━━━━━━━━━━━━━━━━━━\u001b[0m\u001b[37m\u001b[0m \u001b[1m151s\u001b[0m 3s/step - accuracy: 0.9934 - loss: 0.0263 - val_accuracy: 0.9740 - val_loss: 0.0421\n",
      "Epoch 9/50\n",
      "\u001b[1m54/54\u001b[0m \u001b[32m━━━━━━━━━━━━━━━━━━━━\u001b[0m\u001b[37m\u001b[0m \u001b[1m146s\u001b[0m 3s/step - accuracy: 0.9915 - loss: 0.0232 - val_accuracy: 0.9896 - val_loss: 0.0238\n",
      "Epoch 10/50\n",
      "\u001b[1m54/54\u001b[0m \u001b[32m━━━━━━━━━━━━━━━━━━━━\u001b[0m\u001b[37m\u001b[0m \u001b[1m146s\u001b[0m 3s/step - accuracy: 0.9930 - loss: 0.0217 - val_accuracy: 0.9948 - val_loss: 0.0192\n",
      "Epoch 11/50\n",
      "\u001b[1m54/54\u001b[0m \u001b[32m━━━━━━━━━━━━━━━━━━━━\u001b[0m\u001b[37m\u001b[0m \u001b[1m146s\u001b[0m 3s/step - accuracy: 0.9818 - loss: 0.0715 - val_accuracy: 1.0000 - val_loss: 0.0154\n",
      "Epoch 12/50\n",
      "\u001b[1m54/54\u001b[0m \u001b[32m━━━━━━━━━━━━━━━━━━━━\u001b[0m\u001b[37m\u001b[0m \u001b[1m146s\u001b[0m 3s/step - accuracy: 0.9897 - loss: 0.0322 - val_accuracy: 1.0000 - val_loss: 0.0151\n",
      "Epoch 13/50\n",
      "\u001b[1m54/54\u001b[0m \u001b[32m━━━━━━━━━━━━━━━━━━━━\u001b[0m\u001b[37m\u001b[0m \u001b[1m146s\u001b[0m 3s/step - accuracy: 0.9915 - loss: 0.0291 - val_accuracy: 0.9635 - val_loss: 0.1064\n",
      "Epoch 14/50\n",
      "\u001b[1m54/54\u001b[0m \u001b[32m━━━━━━━━━━━━━━━━━━━━\u001b[0m\u001b[37m\u001b[0m \u001b[1m147s\u001b[0m 3s/step - accuracy: 0.9914 - loss: 0.0335 - val_accuracy: 1.0000 - val_loss: 0.0061\n",
      "Epoch 15/50\n",
      "\u001b[1m54/54\u001b[0m \u001b[32m━━━━━━━━━━━━━━━━━━━━\u001b[0m\u001b[37m\u001b[0m \u001b[1m148s\u001b[0m 3s/step - accuracy: 0.9931 - loss: 0.0190 - val_accuracy: 0.9219 - val_loss: 0.2329\n",
      "Epoch 16/50\n",
      "\u001b[1m54/54\u001b[0m \u001b[32m━━━━━━━━━━━━━━━━━━━━\u001b[0m\u001b[37m\u001b[0m \u001b[1m146s\u001b[0m 3s/step - accuracy: 0.9852 - loss: 0.0348 - val_accuracy: 0.9635 - val_loss: 0.0827\n",
      "Epoch 17/50\n",
      "\u001b[1m54/54\u001b[0m \u001b[32m━━━━━━━━━━━━━━━━━━━━\u001b[0m\u001b[37m\u001b[0m \u001b[1m148s\u001b[0m 3s/step - accuracy: 0.9917 - loss: 0.0239 - val_accuracy: 0.9896 - val_loss: 0.0242\n",
      "Epoch 18/50\n",
      "\u001b[1m54/54\u001b[0m \u001b[32m━━━━━━━━━━━━━━━━━━━━\u001b[0m\u001b[37m\u001b[0m \u001b[1m146s\u001b[0m 3s/step - accuracy: 0.9969 - loss: 0.0143 - val_accuracy: 0.9010 - val_loss: 0.3520\n",
      "Epoch 19/50\n",
      "\u001b[1m54/54\u001b[0m \u001b[32m━━━━━━━━━━━━━━━━━━━━\u001b[0m\u001b[37m\u001b[0m \u001b[1m163s\u001b[0m 3s/step - accuracy: 0.9872 - loss: 0.0463 - val_accuracy: 1.0000 - val_loss: 0.0043\n",
      "Epoch 20/50\n",
      "\u001b[1m54/54\u001b[0m \u001b[32m━━━━━━━━━━━━━━━━━━━━\u001b[0m\u001b[37m\u001b[0m \u001b[1m300s\u001b[0m 6s/step - accuracy: 0.9947 - loss: 0.0177 - val_accuracy: 0.9948 - val_loss: 0.0135\n",
      "Epoch 21/50\n",
      "\u001b[1m54/54\u001b[0m \u001b[32m━━━━━━━━━━━━━━━━━━━━\u001b[0m\u001b[37m\u001b[0m \u001b[1m198s\u001b[0m 4s/step - accuracy: 0.9966 - loss: 0.0172 - val_accuracy: 0.9948 - val_loss: 0.0120\n",
      "Epoch 22/50\n",
      "\u001b[1m54/54\u001b[0m \u001b[32m━━━━━━━━━━━━━━━━━━━━\u001b[0m\u001b[37m\u001b[0m \u001b[1m156s\u001b[0m 3s/step - accuracy: 0.9966 - loss: 0.0145 - val_accuracy: 0.9896 - val_loss: 0.0170\n",
      "Epoch 23/50\n",
      "\u001b[1m54/54\u001b[0m \u001b[32m━━━━━━━━━━━━━━━━━━━━\u001b[0m\u001b[37m\u001b[0m \u001b[1m151s\u001b[0m 3s/step - accuracy: 0.9993 - loss: 0.0049 - val_accuracy: 0.9844 - val_loss: 0.0280\n",
      "Epoch 24/50\n",
      "\u001b[1m54/54\u001b[0m \u001b[32m━━━━━━━━━━━━━━━━━━━━\u001b[0m\u001b[37m\u001b[0m \u001b[1m151s\u001b[0m 3s/step - accuracy: 0.9888 - loss: 0.0265 - val_accuracy: 0.9844 - val_loss: 0.0378\n",
      "Epoch 25/50\n",
      "\u001b[1m54/54\u001b[0m \u001b[32m━━━━━━━━━━━━━━━━━━━━\u001b[0m\u001b[37m\u001b[0m \u001b[1m149s\u001b[0m 3s/step - accuracy: 0.9933 - loss: 0.0271 - val_accuracy: 0.9583 - val_loss: 0.0997\n",
      "Epoch 26/50\n",
      "\u001b[1m54/54\u001b[0m \u001b[32m━━━━━━━━━━━━━━━━━━━━\u001b[0m\u001b[37m\u001b[0m \u001b[1m149s\u001b[0m 3s/step - accuracy: 0.9935 - loss: 0.0280 - val_accuracy: 0.9896 - val_loss: 0.0305\n",
      "Epoch 27/50\n",
      "\u001b[1m54/54\u001b[0m \u001b[32m━━━━━━━━━━━━━━━━━━━━\u001b[0m\u001b[37m\u001b[0m \u001b[1m150s\u001b[0m 3s/step - accuracy: 0.9930 - loss: 0.0276 - val_accuracy: 0.9740 - val_loss: 0.0577\n",
      "Epoch 28/50\n",
      "\u001b[1m54/54\u001b[0m \u001b[32m━━━━━━━━━━━━━━━━━━━━\u001b[0m\u001b[37m\u001b[0m \u001b[1m149s\u001b[0m 3s/step - accuracy: 0.9926 - loss: 0.0246 - val_accuracy: 0.9792 - val_loss: 0.0445\n",
      "Epoch 29/50\n",
      "\u001b[1m54/54\u001b[0m \u001b[32m━━━━━━━━━━━━━━━━━━━━\u001b[0m\u001b[37m\u001b[0m \u001b[1m149s\u001b[0m 3s/step - accuracy: 0.9931 - loss: 0.0181 - val_accuracy: 0.9635 - val_loss: 0.0856\n",
      "Epoch 30/50\n",
      "\u001b[1m54/54\u001b[0m \u001b[32m━━━━━━━━━━━━━━━━━━━━\u001b[0m\u001b[37m\u001b[0m \u001b[1m149s\u001b[0m 3s/step - accuracy: 0.9899 - loss: 0.0196 - val_accuracy: 0.9531 - val_loss: 0.1087\n",
      "Epoch 31/50\n",
      "\u001b[1m54/54\u001b[0m \u001b[32m━━━━━━━━━━━━━━━━━━━━\u001b[0m\u001b[37m\u001b[0m \u001b[1m150s\u001b[0m 3s/step - accuracy: 0.9969 - loss: 0.0102 - val_accuracy: 0.9844 - val_loss: 0.0745\n",
      "Epoch 32/50\n",
      "\u001b[1m54/54\u001b[0m \u001b[32m━━━━━━━━━━━━━━━━━━━━\u001b[0m\u001b[37m\u001b[0m \u001b[1m150s\u001b[0m 3s/step - accuracy: 0.9889 - loss: 0.0258 - val_accuracy: 0.9688 - val_loss: 0.0920\n",
      "Epoch 33/50\n",
      "\u001b[1m54/54\u001b[0m \u001b[32m━━━━━━━━━━━━━━━━━━━━\u001b[0m\u001b[37m\u001b[0m \u001b[1m842s\u001b[0m 16s/step - accuracy: 0.9913 - loss: 0.0216 - val_accuracy: 0.9896 - val_loss: 0.0343\n",
      "Epoch 34/50\n",
      "\u001b[1m54/54\u001b[0m \u001b[32m━━━━━━━━━━━━━━━━━━━━\u001b[0m\u001b[37m\u001b[0m \u001b[1m199s\u001b[0m 4s/step - accuracy: 0.9828 - loss: 0.0444 - val_accuracy: 0.9948 - val_loss: 0.0134\n",
      "Epoch 35/50\n",
      "\u001b[1m54/54\u001b[0m \u001b[32m━━━━━━━━━━━━━━━━━━━━\u001b[0m\u001b[37m\u001b[0m \u001b[1m204s\u001b[0m 4s/step - accuracy: 0.9932 - loss: 0.0210 - val_accuracy: 0.9792 - val_loss: 0.0314\n",
      "Epoch 36/50\n",
      "\u001b[1m54/54\u001b[0m \u001b[32m━━━━━━━━━━━━━━━━━━━━\u001b[0m\u001b[37m\u001b[0m \u001b[1m179s\u001b[0m 3s/step - accuracy: 0.9960 - loss: 0.0181 - val_accuracy: 0.9948 - val_loss: 0.0236\n",
      "Epoch 37/50\n",
      "\u001b[1m54/54\u001b[0m \u001b[32m━━━━━━━━━━━━━━━━━━━━\u001b[0m\u001b[37m\u001b[0m \u001b[1m172s\u001b[0m 3s/step - accuracy: 0.9957 - loss: 0.0179 - val_accuracy: 0.9948 - val_loss: 0.0173\n",
      "Epoch 38/50\n",
      "\u001b[1m54/54\u001b[0m \u001b[32m━━━━━━━━━━━━━━━━━━━━\u001b[0m\u001b[37m\u001b[0m \u001b[1m168s\u001b[0m 3s/step - accuracy: 0.9968 - loss: 0.0082 - val_accuracy: 1.0000 - val_loss: 0.0073\n",
      "Epoch 39/50\n",
      "\u001b[1m54/54\u001b[0m \u001b[32m━━━━━━━━━━━━━━━━━━━━\u001b[0m\u001b[37m\u001b[0m \u001b[1m166s\u001b[0m 3s/step - accuracy: 0.9907 - loss: 0.0314 - val_accuracy: 0.9948 - val_loss: 0.0230\n",
      "Epoch 40/50\n",
      "\u001b[1m54/54\u001b[0m \u001b[32m━━━━━━━━━━━━━━━━━━━━\u001b[0m\u001b[37m\u001b[0m \u001b[1m166s\u001b[0m 3s/step - accuracy: 0.9834 - loss: 0.0451 - val_accuracy: 0.9688 - val_loss: 0.0931\n",
      "Epoch 41/50\n",
      "\u001b[1m54/54\u001b[0m \u001b[32m━━━━━━━━━━━━━━━━━━━━\u001b[0m\u001b[37m\u001b[0m \u001b[1m166s\u001b[0m 3s/step - accuracy: 0.9906 - loss: 0.0290 - val_accuracy: 0.9896 - val_loss: 0.0196\n",
      "Epoch 42/50\n",
      "\u001b[1m54/54\u001b[0m \u001b[32m━━━━━━━━━━━━━━━━━━━━\u001b[0m\u001b[37m\u001b[0m \u001b[1m167s\u001b[0m 3s/step - accuracy: 0.9981 - loss: 0.0095 - val_accuracy: 0.9948 - val_loss: 0.0176\n",
      "Epoch 43/50\n",
      "\u001b[1m54/54\u001b[0m \u001b[32m━━━━━━━━━━━━━━━━━━━━\u001b[0m\u001b[37m\u001b[0m \u001b[1m169s\u001b[0m 3s/step - accuracy: 0.9929 - loss: 0.0150 - val_accuracy: 0.9896 - val_loss: 0.0374\n",
      "Epoch 44/50\n",
      "\u001b[1m54/54\u001b[0m \u001b[32m━━━━━━━━━━━━━━━━━━━━\u001b[0m\u001b[37m\u001b[0m \u001b[1m166s\u001b[0m 3s/step - accuracy: 0.9988 - loss: 0.0042 - val_accuracy: 0.9896 - val_loss: 0.0322\n",
      "Epoch 45/50\n",
      "\u001b[1m54/54\u001b[0m \u001b[32m━━━━━━━━━━━━━━━━━━━━\u001b[0m\u001b[37m\u001b[0m \u001b[1m165s\u001b[0m 3s/step - accuracy: 0.9947 - loss: 0.0239 - val_accuracy: 0.9896 - val_loss: 0.0236\n",
      "Epoch 46/50\n",
      "\u001b[1m54/54\u001b[0m \u001b[32m━━━━━━━━━━━━━━━━━━━━\u001b[0m\u001b[37m\u001b[0m \u001b[1m167s\u001b[0m 3s/step - accuracy: 0.9986 - loss: 0.0034 - val_accuracy: 0.9948 - val_loss: 0.0535\n",
      "Epoch 47/50\n",
      "\u001b[1m54/54\u001b[0m \u001b[32m━━━━━━━━━━━━━━━━━━━━\u001b[0m\u001b[37m\u001b[0m \u001b[1m166s\u001b[0m 3s/step - accuracy: 0.9923 - loss: 0.0198 - val_accuracy: 1.0000 - val_loss: 0.0026\n",
      "Epoch 48/50\n",
      "\u001b[1m54/54\u001b[0m \u001b[32m━━━━━━━━━━━━━━━━━━━━\u001b[0m\u001b[37m\u001b[0m \u001b[1m170s\u001b[0m 3s/step - accuracy: 0.9957 - loss: 0.0081 - val_accuracy: 0.9948 - val_loss: 0.0454\n",
      "Epoch 49/50\n",
      "\u001b[1m54/54\u001b[0m \u001b[32m━━━━━━━━━━━━━━━━━━━━\u001b[0m\u001b[37m\u001b[0m \u001b[1m267s\u001b[0m 5s/step - accuracy: 0.9977 - loss: 0.0107 - val_accuracy: 0.9844 - val_loss: 0.0361\n",
      "Epoch 50/50\n",
      "\u001b[1m54/54\u001b[0m \u001b[32m━━━━━━━━━━━━━━━━━━━━\u001b[0m\u001b[37m\u001b[0m \u001b[1m274s\u001b[0m 5s/step - accuracy: 0.9990 - loss: 0.0035 - val_accuracy: 0.9740 - val_loss: 0.1368\n"
     ]
    }
   ],
   "source": [
    "histroy=model.fit(\n",
    "    train_ds,\n",
    "    epochs=EPOCHS,\n",
    "    batch_size=BATCH_SIZE,\n",
    "    validation_data=val_ds,\n",
    "    verbose=1\n",
    ")\n",
    "#Save the entire model\n",
    "model.save('my_model.keras')"
   ]
  },
  {
   "cell_type": "code",
   "execution_count": 22,
   "metadata": {},
   "outputs": [],
   "source": [
    "model.save('my_model.keras')"
   ]
  },
  {
   "cell_type": "code",
   "execution_count": 30,
   "metadata": {},
   "outputs": [],
   "source": [
    "acc=histroy.history[\"accuracy\"]\n",
    "val_acc=histroy.history[\"val_accuracy\"]\n",
    "\n",
    "loss=histroy.history[\"loss\"]\n",
    "val_loss=histroy.history[\"val_loss\"]"
   ]
  },
  {
   "cell_type": "code",
   "execution_count": 47,
   "metadata": {},
   "outputs": [],
   "source": [
    "def predict(model,img):\n",
    "    img_array=tf.keras.preprocessing.image.img_to_array(images[i].numpy())\n",
    "    img_array=tf.expand_dims(img_array,0)\n",
    "\n",
    "    predictions=model.predict(img_array)\n",
    "\n",
    "    predicted_class =class_names[np.argmax(predictions[0])]\n",
    "    confidence=round(100 *(np.max(predictions[0])),2)\n",
    "    return predicted_class,confidence"
   ]
  },
  {
   "cell_type": "code",
   "execution_count": 26,
   "metadata": {},
   "outputs": [
    {
     "name": "stdout",
     "output_type": "stream",
     "text": [
      "\u001b[1m8/8\u001b[0m \u001b[32m━━━━━━━━━━━━━━━━━━━━\u001b[0m\u001b[37m\u001b[0m \u001b[1m26s\u001b[0m 3s/step - accuracy: 0.9673 - loss: 0.0980\n"
     ]
    }
   ],
   "source": [
    "scores=model.evaluate(test_ds)"
   ]
  },
  {
   "cell_type": "code",
   "execution_count": 51,
   "metadata": {},
   "outputs": [
    {
     "name": "stdout",
     "output_type": "stream",
     "text": [
      "\u001b[1m1/1\u001b[0m \u001b[32m━━━━━━━━━━━━━━━━━━━━\u001b[0m\u001b[37m\u001b[0m \u001b[1m0s\u001b[0m 59ms/step\n",
      "\u001b[1m1/1\u001b[0m \u001b[32m━━━━━━━━━━━━━━━━━━━━\u001b[0m\u001b[37m\u001b[0m \u001b[1m0s\u001b[0m 56ms/step\n",
      "\u001b[1m1/1\u001b[0m \u001b[32m━━━━━━━━━━━━━━━━━━━━\u001b[0m\u001b[37m\u001b[0m \u001b[1m0s\u001b[0m 54ms/step\n",
      "\u001b[1m1/1\u001b[0m \u001b[32m━━━━━━━━━━━━━━━━━━━━\u001b[0m\u001b[37m\u001b[0m \u001b[1m0s\u001b[0m 64ms/step\n",
      "\u001b[1m1/1\u001b[0m \u001b[32m━━━━━━━━━━━━━━━━━━━━\u001b[0m\u001b[37m\u001b[0m \u001b[1m0s\u001b[0m 54ms/step\n",
      "\u001b[1m1/1\u001b[0m \u001b[32m━━━━━━━━━━━━━━━━━━━━\u001b[0m\u001b[37m\u001b[0m \u001b[1m0s\u001b[0m 59ms/step\n",
      "\u001b[1m1/1\u001b[0m \u001b[32m━━━━━━━━━━━━━━━━━━━━\u001b[0m\u001b[37m\u001b[0m \u001b[1m0s\u001b[0m 70ms/step\n",
      "\u001b[1m1/1\u001b[0m \u001b[32m━━━━━━━━━━━━━━━━━━━━\u001b[0m\u001b[37m\u001b[0m \u001b[1m0s\u001b[0m 83ms/step\n",
      "\u001b[1m1/1\u001b[0m \u001b[32m━━━━━━━━━━━━━━━━━━━━\u001b[0m\u001b[37m\u001b[0m \u001b[1m0s\u001b[0m 87ms/step\n"
     ]
    }
   ],
   "source": [
    "plt.figure(figsize=(15, 15))\n",
    "for images, labels in test_ds.take(1):\n",
    "    for i in range(9):\n",
    "        # Create a subplot (3x3 grid)\n",
    "        ax = plt.subplot(3, 3, i + 1)\n",
    "\n",
    "        # Display the image\n",
    "        plt.imshow(images[i].numpy().astype(\"uint8\"))\n",
    "\n",
    "        # Predict the class and confidence for the current image\n",
    "        predicted_class, confidence = predict(model, images[i].numpy())\n",
    "\n",
    "        # Get the actual class from labels\n",
    "        actual_class = class_names[labels[i]]  # Fixed the indexing here\n",
    "\n",
    "        # Set the title with predicted and actual information\n",
    "        plt.title(f\"Actual: {actual_class},\\nPredicted: {predicted_class},\\nConfidence: {confidence}%\")\n",
    "\n",
    "        # Turn off axis\n",
    "        plt.axis(\"off\")\n",
    "\n",
    "# Show all the plots\n",
    "plt.show()\n"
   ]
  },
  {
   "cell_type": "code",
   "execution_count": 27,
   "metadata": {},
   "outputs": [
    {
     "data": {
      "text/plain": [
       "[0.07321549952030182, 0.97265625]"
      ]
     },
     "execution_count": 27,
     "metadata": {},
     "output_type": "execute_result"
    }
   ],
   "source": [
    "scores"
   ]
  },
  {
   "cell_type": "code",
   "execution_count": 28,
   "metadata": {},
   "outputs": [
    {
     "name": "stdout",
     "output_type": "stream",
     "text": [
      "plt.figure(figsize=((8,8)))\n",
      "plt.subplot(1,2,1)\n",
      "plt.plot(range(EPOCHS),acc,label=\"Training Accuracy\")\n",
      "plt.plot(range(EPOCHS), val_acc,label=\"Validation Accuracy\")\n",
      "plt.legend(loc=\"lower right\")\n",
      "plt.title(\"Training and Validation Accuracy\")\n",
      "\n",
      "plt.subplot(1,2,2)\n",
      "plt.plot(range(EPOCHS),loss,label-\"Training loss\")\n",
      "plt.plot(range(EPOCHS),val_loss,label=\"Validation Loss\")\n",
      "plt.legend(loc=\"upper right\")\n",
      "plt.title(\"Training and Validation loss\")\n",
      "plt.show()\n",
      "import tensorflow as tf\n",
      "from tensorflow.keras import models, layers\n",
      "import matplotlib\n",
      "import matplotlib.pyplot as plt\n",
      "matplotlib.use('TkAgg')\n",
      "import numpy as np\n",
      "from sklearn.model_selection import train_test_split\n",
      "from sklearn.datasets import load_iris\n",
      "import tensorflow as tf\n",
      "IMAGE_SIZE=256\n",
      "BATCH_SIZE=32\n",
      "CHANNELS=3\n",
      "EPOCHS=50\n",
      "\n",
      "dataset=tf.keras.preprocessing.image_dataset_from_directory(\n",
      "    \"PlantVillage\",\n",
      "    shuffle=True,\n",
      "    image_size=(IMAGE_SIZE,IMAGE_SIZE),\n",
      "    batch_size=BATCH_SIZE, \n",
      "\n",
      " )\n",
      "class_names= dataset.class_names\n",
      "print(class_names)\n",
      "\n",
      "len(dataset)\n",
      "print(len(dataset))\n",
      "for image_batch, label_batch in dataset.take(1):  \n",
      "    plt.figure(figsize=(12,9))\n",
      "     \n",
      "for i in range(12): \n",
      "    ax=plt.subplot(3,4,i+1) \n",
      "    plt.imshow(image_batch[i].numpy().astype(\"uint8\"))\n",
      "    plt.title(class_names[label_batch[i]])\n",
      "    \n",
      "    plt.axis(\"off\")\n",
      "    plt.show()\n",
      "train_size =0.8\n",
      "len(dataset)*train_size\n",
      "\n",
      "dataset.take(54)\n",
      "\n",
      "train_ds=dataset.take(54)\n",
      "print(train_ds)\n",
      "\n",
      "\n",
      "test_ds=dataset.skip(54)\n",
      "len(test_ds)\n",
      "\n",
      "val_ds=dataset.skip(54)\n",
      "len(test_ds)\n",
      "\n",
      "test_ds=test_ds.skip(6)\n",
      "len(test_ds)\n",
      "def get_dataset_partitions_tf(ds,train_split=0.8,val_split=0.1,shuffle=True,shuffle_size=100000):\n",
      "    ds_size=len(ds)\n",
      "\n",
      "    if shuffle:\n",
      "       ds= ds.shuffle(shuffle_size,seed=12)\n",
      "\n",
      "    train_size=int(train_split* ds_size) \n",
      "    val_size=int(val_split*ds_size)\n",
      "    train_ds=ds.take(train_size)\n",
      "\n",
      "    val_ds=ds.skip(train_size).take(val_size)\n",
      "    test_ds=ds.skip(train_size).skip(val_size)\n",
      "\n",
      "    return train_ds,val_ds,test_ds\n",
      "train_ds,val_ds,test_ds=get_dataset_partitions_tf(dataset)\n",
      "\n",
      "len(train_ds)\n",
      "print(len(train_ds))\n",
      "train_ds=train_ds.cache().shuffle(1000).prefetch(buffer_size=tf.data.AUTOTUNE)\n",
      "test_ds=test_ds.cache().shuffle(1000).prefetch(buffer_size=tf.data.AUTOTUNE)\n",
      "val_ds=val_ds.cache().shuffle(1000).prefetch(buffer_size=tf.data.AUTOTUNE)\n",
      "\n",
      "resize_and_rescale = tf.keras.Sequential([\n",
      "    tf.keras.layers.Resizing(IMAGE_SIZE,IMAGE_SIZE),\n",
      "    tf.keras.layers.Rescaling(1.0/255),   \n",
      "])\n",
      "\n",
      "data_augmentation=tf.keras.Sequential([\n",
      "    tf.keras.layers.RandomFlip(\"horizontal_and_vertical\"),\n",
      "    tf.keras.layers.RandomRotation(0.2),\n",
      "])\n",
      "IMAGE_SIZE = 256  # Example image size\n",
      "CHANNELS = 3  # For RGB images\n",
      "n_classes = 3\n",
      "\n",
      "# Define the model\n",
      "model = tf.keras.Sequential([\n",
      "    tf.keras.Input(shape=(IMAGE_SIZE, IMAGE_SIZE, CHANNELS)),  # Define input shape here\n",
      "    resize_and_rescale,  # Rescaling and resizing layers\n",
      "    data_augmentation,   # Data augmentation layers\n",
      "    layers.Conv2D(32, (3, 3), activation=\"relu\"),  # No input_shape here\n",
      "    layers.MaxPooling2D((2, 2)),\n",
      "    layers.Conv2D(64, kernel_size=(3, 3), activation=\"relu\"),\n",
      "    layers.MaxPooling2D((2, 2)),\n",
      "    layers.Conv2D(64, kernel_size=(3, 3), activation=\"relu\"),\n",
      "    layers.MaxPooling2D((2, 2)),\n",
      "    layers.Conv2D(64, kernel_size=(3, 3), activation=\"relu\"),\n",
      "    layers.MaxPooling2D((2, 2)),\n",
      "    layers.Conv2D(64, kernel_size=(3, 3), activation=\"relu\"),\n",
      "    layers.MaxPooling2D((2, 2)),\n",
      "    layers.Conv2D(64, kernel_size=(3, 3), activation=\"relu\"),\n",
      "    layers.MaxPooling2D((2, 2)),\n",
      "    layers.Flatten(),\n",
      "    layers.Dense(64, activation=\"relu\"),\n",
      "    layers.Dense(n_classes, activation=\"softmax\"),\n",
      "])\n",
      "\n",
      "# No need for model.build(input_shape=input_shape)\n",
      "model.summary()\n",
      "IMAGE_SIZE = 256  # Example image size\n",
      "CHANNELS = 3  # For RGB images\n",
      "n_classes = 4\n",
      "\n",
      "# Define the model\n",
      "model = tf.keras.Sequential([\n",
      "    tf.keras.Input(shape=(IMAGE_SIZE, IMAGE_SIZE, CHANNELS)),  # Define input shape here\n",
      "    resize_and_rescale,  # Rescaling and resizing layers\n",
      "    data_augmentation,   # Data augmentation layers\n",
      "    layers.Conv2D(32, (3, 3), activation=\"relu\"),  # No input_shape here\n",
      "    layers.MaxPooling2D((2, 2)),\n",
      "    layers.Conv2D(64, kernel_size=(3, 3), activation=\"relu\"),\n",
      "    layers.MaxPooling2D((2, 2)),\n",
      "    layers.Conv2D(64, kernel_size=(3, 3), activation=\"relu\"),\n",
      "    layers.MaxPooling2D((2, 2)),\n",
      "    layers.Conv2D(64, kernel_size=(3, 3), activation=\"relu\"),\n",
      "    layers.MaxPooling2D((2, 2)),\n",
      "    layers.Conv2D(64, kernel_size=(3, 3), activation=\"relu\"),\n",
      "    layers.MaxPooling2D((2, 2)),\n",
      "    layers.Conv2D(64, kernel_size=(3, 3), activation=\"relu\"),\n",
      "    layers.MaxPooling2D((2, 2)),\n",
      "    layers.Flatten(),\n",
      "    layers.Dense(64, activation=\"relu\"),\n",
      "    layers.Dense(n_classes, activation=\"softmax\"),\n",
      "])\n",
      "\n",
      "# No need for model.build(input_shape=input_shape)\n",
      "model.summary()\n",
      "model.compile(\n",
      "    optimizer=\"adam\",\n",
      "    loss=tf.keras.losses.SparseCategoricalCrossentropy(from_logits=False),\n",
      "    metrics=[\"accuracy\"],  \n",
      "    )\n",
      "history\n",
      "for images_batch,labels_batch in test_ds.take(1):\n",
      "    plt.imshow(images_batch[0].numpy().astore(\"uint8\"))\n",
      "# Accessing the history attribute from the model\n",
      "history = model.history\n",
      "\n",
      "# Now you can access history parameters\n",
      "print(history.params)\n",
      "history=model.fit(\n",
      "    train_ds,\n",
      "    epochs=EPOCHS,\n",
      "    batch_size=BATCH_SIZE,\n",
      "    validation_data=val_ds,\n",
      "    verbose=1\n",
      ")\n",
      "model.compile(\n",
      "    optimizer=\"adam\",\n",
      "    loss=tf.keras.losses.SparseCategoricalCrossentropy(from_logits=False),\n",
      "    metrics=[\"accuracy\"],  \n",
      "    )\n",
      "plt.figure(figsize=((8,8)))\n",
      "plt.subplot(1,2,1)\n",
      "plt.plot(range(EPOCHS),acc,label=\"Training Accuracy\")\n",
      "plt.plot(range(EPOCHS), val_acc,label=\"Validation Accuracy\")\n",
      "plt.legend(loc=\"lower right\")\n",
      "plt.title(\"Training and Validation Accuracy\")\n",
      "\n",
      "plt.subplot(1,2,2)\n",
      "plt.plot(range(EPOCHS),loss,label-\"Training loss\")\n",
      "plt.plot(range(EPOCHS),val_loss,label=\"Validation Loss\")\n",
      "plt.legend(loc=\"upper right\")\n",
      "plt.title(\"Training and Validation loss\")\n",
      "plt.show()\n",
      "histroy=model.fit(\n",
      "    train_ds,\n",
      "    epochs=EPOCHS,\n",
      "    batch_size=BATCH_SIZE,\n",
      "    validation_data=val_ds,\n",
      "    verbose=1\n",
      ")\n",
      "histroy=model.fit(\n",
      "    train_ds,\n",
      "    epochs=EPOCHS,\n",
      "    batch_size=BATCH_SIZE,\n",
      "    validation_data=val_ds,\n",
      "    verbose=1\n",
      ")\n",
      "histroy=model.fit(\n",
      "    train_ds,\n",
      "    epochs=EPOCHS,\n",
      "    batch_size=BATCH_SIZE,\n",
      "    validation_data=val_ds,\n",
      "    verbose=1\n",
      ")\n",
      "#Save the entire model\n",
      "model.save('my_model.h5')  # You can specify any filename, .h5 or SavedModel format\n",
      "model.save('my_model.keras')\n",
      "histroy=model.fit(\n",
      "    train_ds,\n",
      "    epochs=EPOCHS,\n",
      "    batch_size=BATCH_SIZE,\n",
      "    validation_data=val_ds,\n",
      "    verbose=1\n",
      ")\n",
      "#Save the entire model\n",
      "model.save('my_model.h5')  # You can specify any filename, .h5 or SavedModel format\n",
      "histroy=model.fit(\n",
      "    train_ds,\n",
      "    epochs=EPOCHS,\n",
      "    batch_size=BATCH_SIZE,\n",
      "    validation_data=val_ds,\n",
      "    verbose=1\n",
      ")\n",
      "#Save the entire model\n",
      "model.save('my_model.keras')\n",
      "scores\n",
      "scores=model.evaluate(test_ds)\n",
      "scores\n",
      "history\n"
     ]
    }
   ],
   "source": [
    "history"
   ]
  },
  {
   "cell_type": "code",
   "execution_count": 36,
   "metadata": {},
   "outputs": [
    {
     "name": "stdout",
     "output_type": "stream",
     "text": [
      "first image to predict\n",
      "actual label: Potato___Early_blight\n",
      "\u001b[1m1/1\u001b[0m \u001b[32m━━━━━━━━━━━━━━━━━━━━\u001b[0m\u001b[37m\u001b[0m \u001b[1m2s\u001b[0m 2s/step\n",
      "predicted label: Potato___Early_blight\n"
     ]
    }
   ],
   "source": [
    "import numpy as np\n",
    "for images_batch,labels_batch in test_ds.take(1):\n",
    "    first_image= images_batch[0].numpy().astype(\"uint8\")\n",
    "    first_label=labels_batch[0].numpy()\n",
    "\n",
    "    print(\"first image to predict\")\n",
    "    plt.imshow(first_image)\n",
    "    print(\"actual label:\",class_names[first_label])\n",
    "    \n",
    "    batch_prediction=model.predict(images_batch)\n",
    "    print(\"predicted label:\",class_names[np.argmax(batch_prediction[0])])\n",
    "    plt.show()"
   ]
  },
  {
   "cell_type": "code",
   "execution_count": null,
   "metadata": {},
   "outputs": [],
   "source": [
    "np.argmax"
   ]
  },
  {
   "cell_type": "code",
   "execution_count": null,
   "metadata": {},
   "outputs": [],
   "source": []
  },
  {
   "cell_type": "code",
   "execution_count": 29,
   "metadata": {},
   "outputs": [
    {
     "name": "stdout",
     "output_type": "stream",
     "text": [
      "{'verbose': 'auto', 'epochs': 1, 'steps': 8}\n"
     ]
    }
   ],
   "source": [
    "# Accessing the history attribute from the model\n",
    "history = model.history\n",
    "\n",
    "# Now you can access history parameters\n",
    "print(history.params)\n"
   ]
  },
  {
   "cell_type": "code",
   "execution_count": 2,
   "metadata": {},
   "outputs": [],
   "source": [
    "import os\n",
    "\n",
    "model_version = 1\n",
    "folder_path = \"../models\"\n",
    "\n",
    "# Create the folder if it doesn't exist\n",
    "os.makedirs(folder_path, exist_ok=True)\n"
   ]
  },
  {
   "cell_type": "code",
   "execution_count": 11,
   "metadata": {},
   "outputs": [
    {
     "name": "stdout",
     "output_type": "stream",
     "text": [
      "c:\\Users\\User\\Downloads\\open cv1\n"
     ]
    }
   ],
   "source": [
    "import os\n",
    "print(os.getcwd())\n"
   ]
  },
  {
   "cell_type": "code",
   "execution_count": 6,
   "metadata": {},
   "outputs": [],
   "source": [
    "model_version = 2\n",
    "folder_path = \"../models\"\n",
    "os.makedirs(folder_path, exist_ok=True)\n"
   ]
  },
  {
   "cell_type": "code",
   "execution_count": 8,
   "metadata": {},
   "outputs": [],
   "source": [
    "folder_path = \"../models\"\n"
   ]
  },
  {
   "cell_type": "code",
   "execution_count": 9,
   "metadata": {},
   "outputs": [
    {
     "name": "stdout",
     "output_type": "stream",
     "text": [
      "['03-111-100-235.jpg', '03-111-100-235.mp4', '0400002686390_420016755571.pdf', '0400002686390_440017334806.pdf', '0400019430737_620014877392.pdf', '1.jpg', '120.mp4', '2.jpg', '21-AGREEMENT OF SALE (SPECIMEN for Talha)  17-01-2024 (1).doc', '21-AGREEMENT OF SALE (SPECIMEN for Talha)  17-01-2024.doc', '3.jpg', '344862666_1519512131912764_4301515675191701211_n.jpg', '345457477_249968891044032_2123190336957630655_n.jpg', '346657943_807294934164312_6268019518334069826_n (1).jpg', '346657943_807294934164312_6268019518334069826_n.jpg', '347444699_636805125147320_6486426568715487641_n.jpg', '355659578_641516071342892_4144501110656756565_n.jpg', '358364730_649305687230597_8088635103377100241_n.jpg', '363378434_664591789035320_1904662749989858662_n.jpg', '363419473_661159819378517_4611334001721020685_n.jpg', '386107807_708116901349475_4277097889077288383_n.jpg', '396718767_716389470522218_5376700332139840292_n.jpg', '397893909_718043583690140_4112685476408118089_n.jpg', '400064051_720209270140238_908512141321405216_n.jpg', '401830949_724018333092665_2375730593558034954_n.jpg', '402653284_729014759259689_4625529161771962941_n.jpg', '402831041_725719159589249_8668825398943877734_n.jpg', '402857931_726765916151240_4144597743175642510_n.jpg', '406481530_735467151947783_2807447462124233202_n.jpg', '450603890_870093418485155_5137010374613736355_n.jpg', 'A9 Lucky plaza Arif sb.pdf', 'affidavit k.e.pdf', 'amd-software-adrenalin-edition-24.1.1-combined-minimalsetup-240122_web.exe', 'Anaconda3-2024.06-1-Windows-x86_64.exe', 'appointmentconfirmation.pdf', 'archive', 'archive (1)', 'archive (1) (1).zip', 'archive (1) (2).zip', 'archive (1) (3).zip', 'archive (1).zip', 'archive (2)', 'archive (2).zip', 'archive (3)', 'archive (3).zip', 'archive.zip', 'Assignment Talha.pdf', 'attested cnic.pdf', 'attested leased.pdf', 'Availability of Name Letter for  20240711_2688728.pdf', 'Best 500_ Fashion Pictures _HD_ _ Download Free Images on Unsplash', 'Black And White Minimal Instagram Profile Picture (1).jpg', 'Black And White Minimal Instagram Profile Picture.jpg', 'Black and White Printable Price List.jpg', 'Blue Modern Residential Logo (1).jpg', 'Blue Modern Residential Logo.jpg', 'BOOK YOUR VILLA.jpg', 'BQT-487_051938_240705_105224.pdf', 'Brown and Beige Modern Property Management Instagram Post.jpg', 'CamScanner 05-17-2024 23.09 (1).pdf', 'CamScanner 05-17-2024 23.09.pdf', 'Consular Electronic Application Center - Print Application.pdf', 'Creative (1).mp4', 'CREATIVE.jpg', 'Creative.mp4', 'data_cleaning (1) (1).ipynb', 'data_cleaning (1).ipynb', 'desktop.ini', 'DOC-20240918-WA0071..pdf', 'DOC-20240918-WA0077..pdf', 'DOC-20240918-WA0078..pdf', 'download (1).pdf', 'download.pdf', 'downloadappointmentcalendar (1).ics', 'downloadappointmentcalendar.ics', 'FaceRecognition-GUI-APP-master (1).zip', 'FaceRecognition-GUI-APP-master (2).zip', 'FaceRecognition-GUI-APP-master.zip', 'Faqs_Aasaan Meter (Below 80 Kilowatt).pdf', 'Flyer Side 1 .pdf', 'For Booking & Details.jpg', 'gasbill_6634650000_202401_20240124142448.pdf', 'gasbill_6634650000_202405_20240528212801.pdf', 'gasbill_8372540000_202401_20240124155829 (1).pdf', 'gasbill_8372540000_202401_20240124155829.pdf', 'Gmail - KE New Connection Update _ Tracking ID _000000735152.pdf', 'Grey Beige Simple Animated Real Estate Mobile Video.mp4', 'image1.webp', 'image2.jpg', 'IMG-20240426-WA0034.jpg', 'IMG_20240509_171236_285.jpg', 'Leads 0 %_Leads_2024-04-29_2024-04-29.xls', 'leads 18-7-2024_Leads_2024-07-18_2024-07-18.xls', 'leads 18-7-2024_Leads_2024-07-19_2024-07-19.xls', 'leads 18-7-2024_Leads_2024-07-22_2024-07-23 (1).xls', 'leads 18-7-2024_Leads_2024-07-22_2024-07-23.xls', 'leads 18-7-2024_Leads_2024-07-24_2024-07-24.xls', 'leads 62.xls', 'leads eid 2024_Leads_2024-05-22_2024-05-26.xls', 'leads eid 2024_Leads_2024-05-23_2024-05-23.xls', 'leads eid 2024_Leads_2024-05-24_2024-05-24.xls', 'leads eid 2024_Leads_2024-06-04_2024-06-04.xls', 'Letterhead CA.pdf', 'Light Blue and Pink Watercolor Flowy Script Style Real Estate Instagram Post (1).jpg', 'Light Blue and Pink Watercolor Flowy Script Style Real Estate Instagram Post.jpg', 'Light Blue and Pink Watercolor Flowy Script Style Real Estate Instagram Post.mp4', 'LoanDataset - LoansDatasest.csv', 'LoanDataset - LoansDatasest.csv.zip', 'Logo For S.s.mp4', 'Madina City Logo English.png', 'Madina City Logo urdu.png', 'MR & MRS SYED SHAHZAD ALI.jpg', 'music (1).csv', 'mysql-installer-web-community-8.0.39.0.msi', 'NC-Standard-Affidavit-on-Rs-50-Stamp-paper-or-Revnue-Ticket.pdf', 'nikkah', 'Non-Immigrant Visa - Review Location.pdf', 'Non-Immigrant Visa - Review Personal, Address, Phone, and Passport Information.pdf', 'Non-Immigrant Visa - Review Travel Information.pdf', 'Nonimmigrant Visa - Confirmation Page.pdf', 'Nonimmigrant Visa - Print Application ID (1).pdf', 'Nonimmigrant Visa - Print Application ID (2).pdf', 'Nonimmigrant Visa - Print Application ID (3).pdf', 'Nonimmigrant Visa - Print Application ID.pdf', 'Nonimmigrant Visa - Review Family Information.pdf', 'Nonimmigrant Visa - Review Security Information.pdf', 'Nonimmigrant Visa - Review US Contact Information.pdf', 'Nonimmigrant Visa - Review Work _ Education Information.pdf', 'open', 'open cv1', 'opencv-python-4.x.zip', 'Orange And Purple Attractive YouTube Thumbnail.jpg', 'Order S.S Studio.jpg', 'Outstanding_Summary_3545589-6_202401.xlsx', 'Payment Reciept.jpeg', 'PBIDesktopSetup_x64.exe', 'powershell-7.4.4-1.cm.aarch64.rpm', 'Professional Business Card (1).jpg', 'Professional Business Card (2).jpg', 'Professional Business Card.jpg', 'pycharm-community-2024.1.4.exe', 'pycharm-professional-2024.1.6 (1).exe', 'pycharm-professional-2024.1.6.exe', 'PyScripter-4.2.5-x64-Setup.exe', 'python-3.11.3-amd64.exe', 'python-3.12.4-amd64 (2).exe', 'python-3.12.4-amd64.exe', 'PythonUniverse.exe', 'Saleem son.pdf', 'SCAN FOR LOCATION.jpg', 'SCHOOL.jpg', 'self cnic saleem.pdf', 'SQLLint-master.zip', 'student_data.csv', 'SuperStore_Sales_Dataset.csv', 'Syed Jawaid Ali Tax Return 2023.pdf', 'Talha 1.jpg', 'Talha Assignment 49-50.pdf', 'Talha.jpg', 'TENANT NOC OF H04 T-H.pdf', 'tips (1).csv', 'tips.csv', 'train_and_test2.csv', 'transactions.xlsx', 'Unconfirmed 679375.crdownload', 'Untitled (Facebook Ad).jpg', 'Untitled design (1).mp4', 'Untitled design.mp4', 'USTravelDocs.pdf', 'WhatsApp Image 2024-01-16 at 7.05.30 PM (1).jpeg', 'WhatsApp Image 2024-01-16 at 7.05.30 PM (2).jpeg', 'WhatsApp Image 2024-01-16 at 7.05.30 PM.jpeg', 'WhatsApp Image 2024-01-16 at 7.05.31 PM (1).jpeg', 'WhatsApp Image 2024-01-16 at 7.05.31 PM.jpeg', 'WhatsApp Image 2024-01-16 at 7.05.32 PM (1).jpeg', 'WhatsApp Image 2024-01-16 at 7.05.32 PM (2).jpeg', 'WhatsApp Image 2024-01-16 at 7.05.32 PM (3).jpeg', 'WhatsApp Image 2024-01-16 at 7.05.32 PM.jpeg', 'WhatsApp Image 2024-01-16 at 7.05.33 PM (1).jpeg', 'WhatsApp Image 2024-01-16 at 7.05.33 PM (2).jpeg', 'WhatsApp Image 2024-01-16 at 7.05.33 PM.jpeg', 'WhatsApp Image 2024-01-16 at 7.05.34 PM.jpeg', 'WhatsApp Image 2024-01-16 at 9.10.41 PM.jpeg', 'WhatsApp Image 2024-01-22 at 2.55.55 PM.jpeg', 'WhatsApp Image 2024-01-22 at 2.55.56 PM (1).jpeg', 'WhatsApp Image 2024-01-22 at 2.55.56 PM.jpeg', 'WhatsApp Image 2024-02-23 at 8.02.34 PM.jpeg', 'WhatsApp Image 2024-02-23 at 8.13.06 PM (1).jpeg', 'WhatsApp Image 2024-02-23 at 8.13.06 PM.jpeg', 'WhatsApp Image 2024-04-20 at 12.43.31 PM.jpeg', 'WhatsApp Image 2024-04-24 at 2.09.05 PM (1).jpeg', 'WhatsApp Image 2024-04-24 at 2.09.05 PM.jpeg', 'WhatsApp Image 2024-04-24 at 2.09.06 PM (1).jpeg', 'WhatsApp Image 2024-04-24 at 2.09.06 PM (2).jpeg', 'WhatsApp Image 2024-04-24 at 2.09.06 PM (3).jpeg', 'WhatsApp Image 2024-04-24 at 2.09.06 PM.jpeg', 'WhatsApp Image 2024-05-03 at 5.19.04 PM.jpeg', 'WhatsApp Image 2024-05-10 at 10.14.30 PM.jpeg', 'WhatsApp Image 2024-05-13 at 4.09.37 PM.jpeg', 'WhatsApp Image 2024-05-17 at 11.05.58 PM (1).jpeg', 'WhatsApp Image 2024-05-17 at 11.05.58 PM.jpeg', 'WhatsApp Image 2024-05-25 at 1.05.13 PM.jpeg', 'WhatsApp Image 2024-05-25 at 1.38.06 PM.jpeg', 'WhatsApp Image 2024-05-27 at 1.38.35 PM.jpeg', 'WhatsApp Image 2024-05-27 at 5.57.41 PM.jpeg', 'WhatsApp Image 2024-05-27 at 9.28.38 PM.jpeg', 'WhatsApp Image 2024-05-27 at 9.28.39 PM.jpeg', 'WhatsApp Image 2024-05-27 at 9.28.40 PM.jpeg', 'WhatsApp Image 2024-05-27 at 9.28.41 PM (1).jpeg', 'WhatsApp Image 2024-05-27 at 9.28.41 PM (2).jpeg', 'WhatsApp Image 2024-05-27 at 9.28.41 PM.jpeg', 'WhatsApp Image 2024-05-27 at 9.28.44 PM (1).jpeg', 'WhatsApp Image 2024-05-27 at 9.28.44 PM.jpeg', 'WhatsApp Image 2024-05-27 at 9.28.59 PM.jpeg', 'WhatsApp Image 2024-05-27 at 9.29.00 PM (1).jpeg', 'WhatsApp Image 2024-05-27 at 9.29.00 PM (2).jpeg', 'WhatsApp Image 2024-05-27 at 9.29.00 PM.jpeg', 'WhatsApp Image 2024-06-29 at 4.29.10 PM.jpeg', 'WhatsApp Image 2024-07-18 at 5.18.38 PM.jpeg', 'WhatsApp Image 2024-07-18 at 5.18.39 PM.jpeg', 'WhatsApp Image 2024-08-27 at 4.03.47 PM.jpeg', 'WhatsApp Image 2024-08-27 at 4.03.49 PM.jpeg', 'WhatsApp Image 2024-08-27 at 4.33.35 PM.jpeg', 'WhatsApp Image 2024-08-27 at 4.33.36 PM (1).jpeg', 'WhatsApp Image 2024-08-27 at 4.33.36 PM.jpeg', 'WhatsApp Image 2024-08-27 at 4.33.37 PM.jpeg', 'White And Blue Modern Real Estate Instagram Post (1).jpg', 'White And Blue Modern Real Estate Instagram Post.jpg', 'White Red Modern Corporate Letterhead.pdf', 'Witness Cnic_.pdf', 'بڑی عید.jpg']\n"
     ]
    }
   ],
   "source": [
    "import os\n",
    "\n",
    "# Get the parent directory\n",
    "parent_dir = os.path.abspath(os.path.join(os.getcwd(), '..'))\n",
    "\n",
    "# List contents of the parent directory\n",
    "contents = os.listdir(parent_dir)\n",
    "print(contents)\n"
   ]
  },
  {
   "cell_type": "code",
   "execution_count": 13,
   "metadata": {},
   "outputs": [],
   "source": [
    "import os\n",
    "\n",
    "\n",
    "model_version=2\n",
    "folder_path = \"../modelsss\"\n",
    "os.makedirs(folder_path, exist_ok=True)  # This won't throw an error if it already exists\n"
   ]
  },
  {
   "cell_type": "code",
   "execution_count": 14,
   "metadata": {},
   "outputs": [],
   "source": [
    "import pickle\n",
    "import os\n",
    "\n",
    "folder_path = \"../models\"\n",
    "os.makedirs(folder_path, exist_ok=True)\n",
    "\n",
    "class MyModel:\n",
    "    def __init__(self):\n",
    "        self.parameters = [1, 2, 3]\n",
    "\n",
    "model = MyModel()  # Make sure the model is instantiated\n",
    "\n",
    "# Save the model\n",
    "with open(f\"{folder_path}/model.pkl\", \"wb\") as file:\n",
    "    pickle.dump(model, file)\n"
   ]
  }
 ],
 "metadata": {
  "kernelspec": {
   "display_name": "Python 3",
   "language": "python",
   "name": "python3"
  },
  "language_info": {
   "codemirror_mode": {
    "name": "ipython",
    "version": 3
   },
   "file_extension": ".py",
   "mimetype": "text/x-python",
   "name": "python",
   "nbconvert_exporter": "python",
   "pygments_lexer": "ipython3",
   "version": "3.12.4"
  }
 },
 "nbformat": 4,
 "nbformat_minor": 2
}
